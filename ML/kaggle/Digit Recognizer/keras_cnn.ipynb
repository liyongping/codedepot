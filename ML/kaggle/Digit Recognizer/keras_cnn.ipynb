{
 "cells": [
  {
   "cell_type": "markdown",
   "metadata": {},
   "source": [
    "# https://www.kaggle.com/c/digit-recognizer/\n",
    "# with keras + CNN, scored 0.9785714285714285"
   ]
  },
  {
   "cell_type": "code",
   "execution_count": 60,
   "metadata": {},
   "outputs": [],
   "source": [
    "import numpy as np \n",
    "import pandas as pd \n",
    "import matplotlib.pyplot as plt \n",
    "from sklearn.model_selection import train_test_split"
   ]
  },
  {
   "cell_type": "code",
   "execution_count": 61,
   "metadata": {},
   "outputs": [],
   "source": [
    "# load csv files to numpy arrays\n",
    "\n",
    "def load_data():\n",
    "    train = pd.read_csv(\"train.csv\")\n",
    "    X_train = train.values[:,1:] \n",
    "    y_train = train.values[:,0]\n",
    "    \n",
    "    Pred_test = pd.read_csv(\"test.csv\").values\n",
    "    return X_train, y_train, Pred_test\n",
    "\n",
    "def flush_predictons(predictions, output_name='out.csv'):\n",
    "    '''\n",
    "    predictions is a np.array of int \n",
    "    '''\n",
    "    imgs = pd.Series(range(1,pred_test.shape[0]+1))\n",
    "    imgd = pd.DataFrame(imgs)\n",
    "    \n",
    "    labeld = pd.DataFrame(predictions)\n",
    "    out = pd.concat([imgd, labeld],axis=1)\n",
    "    out.columns = [\"ImageId\", \"Label\"]\n",
    "    out.to_csv(output_name, index = False)\n",
    "    \n",
    "x_train, y_train, pred_test = load_data()"
   ]
  },
  {
   "cell_type": "code",
   "execution_count": 62,
   "metadata": {
    "scrolled": true
   },
   "outputs": [
    {
     "name": "stdout",
     "output_type": "stream",
     "text": [
      "(42000, 784) (42000,) (28000, 784)\n"
     ]
    }
   ],
   "source": [
    "print(x_train.shape, y_train.shape, pred_test.shape)"
   ]
  },
  {
   "cell_type": "code",
   "execution_count": 63,
   "metadata": {
    "scrolled": true
   },
   "outputs": [
    {
     "name": "stderr",
     "output_type": "stream",
     "text": [
      "C:\\ProgramData\\Anaconda3\\lib\\site-packages\\sklearn\\model_selection\\_split.py:2026: FutureWarning: From version 0.21, test_size will always complement train_size unless both are specified.\n",
      "  FutureWarning)\n"
     ]
    },
    {
     "name": "stdout",
     "output_type": "stream",
     "text": [
      "(33600, 784) (33600,) (8400, 784) (8400,)\n"
     ]
    }
   ],
   "source": [
    "x_train, x_test, y_train, y_test = train_test_split(x_train, y_train, train_size=0.8, random_state=0)\n",
    "print(x_train.shape, y_train.shape, x_test.shape, y_test.shape)"
   ]
  },
  {
   "cell_type": "code",
   "execution_count": 64,
   "metadata": {},
   "outputs": [
    {
     "data": {
      "text/plain": [
       "<matplotlib.image.AxesImage at 0x206169ad4a8>"
      ]
     },
     "execution_count": 64,
     "metadata": {},
     "output_type": "execute_result"
    },
    {
     "data": {
      "image/png": "[encoded data removed]",
      "text/plain": [
       "<matplotlib.figure.Figure at 0x206169802b0>"
      ]
     },
     "metadata": {},
     "output_type": "display_data"
    }
   ],
   "source": [
    "plt.imshow(x_train[4].reshape(28, 28))"
   ]
  },
  {
   "cell_type": "code",
   "execution_count": 65,
   "metadata": {},
   "outputs": [],
   "source": [
    "from keras import models, layers\n",
    "import keras\n",
    "from keras.models import Sequential\n",
    "from keras.layers import Dense, Dropout, Activation, Conv2D, MaxPool2D, Flatten, ZeroPadding2D, BatchNormalization\n",
    "from keras.optimizers import RMSprop"
   ]
  },
  {
   "cell_type": "code",
   "execution_count": 66,
   "metadata": {},
   "outputs": [],
   "source": [
    "# data preprocessing for keras CNN\n",
    "x_train = x_train.reshape(x_train.shape[0], 28,28,1).astype('float32')/255\n",
    "x_test  = x_test.reshape(x_test.shape[0], 28,28,1).astype('float32')/255"
   ]
  },
  {
   "cell_type": "code",
   "execution_count": 67,
   "metadata": {},
   "outputs": [],
   "source": [
    "batch_size = 128\n",
    "num_classes = 10\n",
    "epochs = 20\n",
    "pool_size=(2,2)"
   ]
  },
  {
   "cell_type": "code",
   "execution_count": 68,
   "metadata": {},
   "outputs": [],
   "source": [
    "# one-hot\n",
    "y_train = keras.utils.to_categorical(y_train, num_classes)\n",
    "y_test = keras.utils.to_categorical(y_test, num_classes)"
   ]
  },
  {
   "cell_type": "code",
   "execution_count": 69,
   "metadata": {},
   "outputs": [
    {
     "name": "stdout",
     "output_type": "stream",
     "text": [
      "(33600, 28, 28, 1) (33600, 10) (8400, 28, 28, 1) (8400, 10)\n"
     ]
    }
   ],
   "source": [
    "print(x_train.shape, y_train.shape, x_test.shape, y_test.shape)"
   ]
  },
  {
   "cell_type": "code",
   "execution_count": 71,
   "metadata": {},
   "outputs": [
    {
     "name": "stdout",
     "output_type": "stream",
     "text": [
      "_________________________________________________________________\n",
      "Layer (type)                 Output Shape              Param #   \n",
      "=================================================================\n",
      "conv2d_17 (Conv2D)           (None, 26, 26, 32)        320       \n",
      "_________________________________________________________________\n",
      "activation_21 (Activation)   (None, 26, 26, 32)        0         \n",
      "_________________________________________________________________\n",
      "batch_normalization_17 (Batc (None, 26, 26, 32)        128       \n",
      "_________________________________________________________________\n",
      "max_pooling2d_11 (MaxPooling (None, 13, 13, 32)        0         \n",
      "_________________________________________________________________\n",
      "zero_padding2d_9 (ZeroPaddin (None, 15, 15, 32)        0         \n",
      "_________________________________________________________________\n",
      "conv2d_18 (Conv2D)           (None, 13, 13, 48)        13872     \n",
      "_________________________________________________________________\n",
      "activation_22 (Activation)   (None, 13, 13, 48)        0         \n",
      "_________________________________________________________________\n",
      "batch_normalization_18 (Batc (None, 13, 13, 48)        192       \n",
      "_________________________________________________________________\n",
      "max_pooling2d_12 (MaxPooling (None, 6, 6, 48)          0         \n",
      "_________________________________________________________________\n",
      "zero_padding2d_10 (ZeroPaddi (None, 8, 8, 48)          0         \n",
      "_________________________________________________________________\n",
      "conv2d_19 (Conv2D)           (None, 6, 6, 64)          27712     \n",
      "_________________________________________________________________\n",
      "activation_23 (Activation)   (None, 6, 6, 64)          0         \n",
      "_________________________________________________________________\n",
      "batch_normalization_19 (Batc (None, 6, 6, 64)          256       \n",
      "_________________________________________________________________\n",
      "max_pooling2d_13 (MaxPooling (None, 3, 3, 64)          0         \n",
      "_________________________________________________________________\n",
      "zero_padding2d_11 (ZeroPaddi (None, 5, 5, 64)          0         \n",
      "_________________________________________________________________\n",
      "conv2d_20 (Conv2D)           (None, 4, 4, 80)          20560     \n",
      "_________________________________________________________________\n",
      "activation_24 (Activation)   (None, 4, 4, 80)          0         \n",
      "_________________________________________________________________\n",
      "batch_normalization_20 (Batc (None, 4, 4, 80)          320       \n",
      "_________________________________________________________________\n",
      "max_pooling2d_14 (MaxPooling (None, 2, 2, 80)          0         \n",
      "_________________________________________________________________\n",
      "dropout_3 (Dropout)          (None, 2, 2, 80)          0         \n",
      "_________________________________________________________________\n",
      "flatten_3 (Flatten)          (None, 320)               0         \n",
      "_________________________________________________________________\n",
      "dense_5 (Dense)              (None, 2560)              821760    \n",
      "_________________________________________________________________\n",
      "activation_25 (Activation)   (None, 2560)              0         \n",
      "_________________________________________________________________\n",
      "dense_6 (Dense)              (None, 10)                25610     \n",
      "_________________________________________________________________\n",
      "activation_26 (Activation)   (None, 10)                0         \n",
      "=================================================================\n",
      "Total params: 910,730\n",
      "Trainable params: 910,282\n",
      "Non-trainable params: 448\n",
      "_________________________________________________________________\n"
     ]
    }
   ],
   "source": [
    "model = Sequential()\n",
    "model.add(Conv2D(32, kernel_size=(3,3), input_shape=(28,28,1,)))\n",
    "model.add(Activation('relu'))\n",
    "model.add(BatchNormalization(epsilon=1e-6))\n",
    "model.add(MaxPool2D(pool_size=pool_size))\n",
    "\n",
    "model.add(ZeroPadding2D(padding=(1,1)))\n",
    "model.add(Conv2D(48, kernel_size=(3,3)))\n",
    "model.add(Activation('relu'))\n",
    "model.add(BatchNormalization(epsilon=1e-6))\n",
    "model.add(MaxPool2D(pool_size=pool_size))\n",
    "\n",
    "model.add(ZeroPadding2D(padding=(1,1)))\n",
    "model.add(Conv2D(64, kernel_size=(3,3)))\n",
    "model.add(Activation('relu'))\n",
    "model.add(BatchNormalization(epsilon=1e-6))\n",
    "model.add(MaxPool2D(pool_size=pool_size))\n",
    "\n",
    "model.add(ZeroPadding2D(padding=(1,1)))\n",
    "model.add(Conv2D(80, kernel_size=(2,2)))\n",
    "model.add(Activation('relu'))\n",
    "model.add(BatchNormalization(epsilon=1e-6))\n",
    "model.add(MaxPool2D(pool_size=pool_size))\n",
    "\n",
    "\n",
    "model.add(Dropout(0.2))\n",
    "model.add(Flatten())\n",
    "\n",
    "model.add(Dense(2560))\n",
    "model.add(Activation('relu'))\n",
    "\n",
    "model.add(Dense(10))\n",
    "model.add(Activation('softmax'))\n",
    " \n",
    "model.summary()"
   ]
  },
  {
   "cell_type": "code",
   "execution_count": 72,
   "metadata": {},
   "outputs": [
    {
     "name": "stdout",
     "output_type": "stream",
     "text": [
      "Train on 33600 samples, validate on 8400 samples\n",
      "Epoch 1/80\n",
      "33600/33600 [==============================] - 53s 2ms/step - loss: 0.5557 - acc: 0.9129 - val_loss: 0.1081 - val_acc: 0.9679\n",
      "Epoch 2/80\n",
      "33600/33600 [==============================] - 51s 2ms/step - loss: 0.0754 - acc: 0.9782 - val_loss: 0.1348 - val_acc: 0.9663\n",
      "Epoch 3/80\n",
      "33600/33600 [==============================] - 51s 2ms/step - loss: 0.0534 - acc: 0.9849 - val_loss: 0.0995 - val_acc: 0.9773\n",
      "Epoch 4/80\n",
      "33600/33600 [==============================] - 51s 2ms/step - loss: 0.0481 - acc: 0.9877 - val_loss: 0.0671 - val_acc: 0.9831\n",
      "Epoch 5/80\n",
      "33600/33600 [==============================] - 51s 2ms/step - loss: 0.0386 - acc: 0.9896 - val_loss: 0.0736 - val_acc: 0.9839\n",
      "Epoch 6/80\n",
      "33600/33600 [==============================] - 52s 2ms/step - loss: 0.0332 - acc: 0.9914 - val_loss: 0.0632 - val_acc: 0.9876\n",
      "Epoch 7/80\n",
      "33600/33600 [==============================] - 51s 2ms/step - loss: 0.0306 - acc: 0.9924 - val_loss: 0.0845 - val_acc: 0.9813\n",
      "Epoch 8/80\n",
      "33600/33600 [==============================] - 52s 2ms/step - loss: 0.0253 - acc: 0.9935 - val_loss: 0.0605 - val_acc: 0.9887\n",
      "Epoch 9/80\n",
      "33600/33600 [==============================] - 51s 2ms/step - loss: 0.0272 - acc: 0.9934 - val_loss: 0.1078 - val_acc: 0.9804\n",
      "Epoch 10/80\n",
      "33600/33600 [==============================] - 52s 2ms/step - loss: 0.0262 - acc: 0.9940 - val_loss: 0.0773 - val_acc: 0.9875\n",
      "Epoch 11/80\n",
      "33600/33600 [==============================] - 52s 2ms/step - loss: 0.0235 - acc: 0.9947 - val_loss: 0.0628 - val_acc: 0.9898\n",
      "Epoch 12/80\n",
      "33600/33600 [==============================] - 51s 2ms/step - loss: 0.0201 - acc: 0.9959 - val_loss: 0.0883 - val_acc: 0.9854\n",
      "Epoch 13/80\n",
      "33600/33600 [==============================] - 51s 2ms/step - loss: 0.0192 - acc: 0.9956 - val_loss: 0.0818 - val_acc: 0.9877\n",
      "Epoch 14/80\n",
      "33600/33600 [==============================] - 51s 2ms/step - loss: 0.0188 - acc: 0.9957 - val_loss: 0.0773 - val_acc: 0.9876\n",
      "Epoch 15/80\n",
      "33600/33600 [==============================] - 51s 2ms/step - loss: 0.0180 - acc: 0.9958 - val_loss: 0.0912 - val_acc: 0.9874\n",
      "Epoch 16/80\n",
      "33600/33600 [==============================] - 51s 2ms/step - loss: 0.0148 - acc: 0.9967 - val_loss: 0.0803 - val_acc: 0.9894\n",
      "Epoch 17/80\n",
      "33600/33600 [==============================] - 52s 2ms/step - loss: 0.0161 - acc: 0.9967 - val_loss: 0.0675 - val_acc: 0.9908\n",
      "Epoch 18/80\n",
      "33600/33600 [==============================] - 51s 2ms/step - loss: 0.0178 - acc: 0.9970 - val_loss: 0.1043 - val_acc: 0.9868\n",
      "Epoch 19/80\n",
      "33600/33600 [==============================] - 51s 2ms/step - loss: 0.0171 - acc: 0.9967 - val_loss: 0.0958 - val_acc: 0.9882\n",
      "Epoch 20/80\n",
      "33600/33600 [==============================] - 52s 2ms/step - loss: 0.0176 - acc: 0.9970 - val_loss: 0.0965 - val_acc: 0.9888\n",
      "Epoch 21/80\n",
      "33600/33600 [==============================] - 51s 2ms/step - loss: 0.0178 - acc: 0.9967 - val_loss: 0.0649 - val_acc: 0.9906\n",
      "Epoch 22/80\n",
      "33600/33600 [==============================] - 52s 2ms/step - loss: 0.0121 - acc: 0.9974 - val_loss: 0.0917 - val_acc: 0.9892\n",
      "Epoch 23/80\n",
      "33600/33600 [==============================] - 52s 2ms/step - loss: 0.0133 - acc: 0.9973 - val_loss: 0.0819 - val_acc: 0.9911\n",
      "Epoch 24/80\n",
      "33600/33600 [==============================] - 51s 2ms/step - loss: 0.0101 - acc: 0.9982 - val_loss: 0.0725 - val_acc: 0.9913\n",
      "Epoch 25/80\n",
      "33600/33600 [==============================] - 52s 2ms/step - loss: 0.0135 - acc: 0.9973 - val_loss: 0.0737 - val_acc: 0.9906\n",
      "Epoch 26/80\n",
      "33600/33600 [==============================] - 52s 2ms/step - loss: 0.0131 - acc: 0.9982 - val_loss: 0.1367 - val_acc: 0.9861\n",
      "Epoch 27/80\n",
      "33600/33600 [==============================] - 51s 2ms/step - loss: 0.0133 - acc: 0.9974 - val_loss: 0.1371 - val_acc: 0.9861\n",
      "Epoch 28/80\n",
      "33600/33600 [==============================] - 51s 2ms/step - loss: 0.0119 - acc: 0.9975 - val_loss: 0.0884 - val_acc: 0.9913\n",
      "Epoch 29/80\n",
      "33600/33600 [==============================] - 52s 2ms/step - loss: 0.0113 - acc: 0.9978 - val_loss: 0.0796 - val_acc: 0.9912\n",
      "Epoch 30/80\n",
      "33600/33600 [==============================] - 51s 2ms/step - loss: 0.0099 - acc: 0.9983 - val_loss: 0.0939 - val_acc: 0.9905\n",
      "Epoch 31/80\n",
      "33600/33600 [==============================] - 47s 1ms/step - loss: 0.0115 - acc: 0.9979 - val_loss: 0.0945 - val_acc: 0.9902\n",
      "Epoch 32/80\n",
      "33600/33600 [==============================] - 5s 158us/step - loss: 0.0093 - acc: 0.9983 - val_loss: 0.1049 - val_acc: 0.9892\n",
      "Epoch 33/80\n",
      "33600/33600 [==============================] - 3s 90us/step - loss: 0.0123 - acc: 0.9981 - val_loss: 0.0884 - val_acc: 0.9905\n",
      "Epoch 34/80\n",
      "33600/33600 [==============================] - 3s 88us/step - loss: 0.0080 - acc: 0.9987 - val_loss: 0.0915 - val_acc: 0.9901\n",
      "Epoch 35/80\n",
      "33600/33600 [==============================] - 3s 88us/step - loss: 0.0100 - acc: 0.9986 - val_loss: 0.0926 - val_acc: 0.9910\n",
      "Epoch 36/80\n",
      "33600/33600 [==============================] - 3s 88us/step - loss: 0.0094 - acc: 0.9984 - val_loss: 0.1416 - val_acc: 0.9864\n",
      "Epoch 37/80\n",
      "33600/33600 [==============================] - 3s 88us/step - loss: 0.0091 - acc: 0.9984 - val_loss: 0.1047 - val_acc: 0.9895\n",
      "Epoch 38/80\n",
      "33600/33600 [==============================] - 3s 88us/step - loss: 0.0064 - acc: 0.9990 - val_loss: 0.1210 - val_acc: 0.9881\n",
      "Epoch 39/80\n",
      "33600/33600 [==============================] - 3s 88us/step - loss: 0.0094 - acc: 0.9983 - val_loss: 0.0797 - val_acc: 0.9915\n",
      "Epoch 40/80\n",
      "33600/33600 [==============================] - 3s 88us/step - loss: 0.0088 - acc: 0.9983 - val_loss: 0.0877 - val_acc: 0.9907\n",
      "Epoch 41/80\n",
      "33600/33600 [==============================] - 3s 88us/step - loss: 0.0124 - acc: 0.9980 - val_loss: 0.0745 - val_acc: 0.9923\n",
      "Epoch 42/80\n",
      "33600/33600 [==============================] - 3s 88us/step - loss: 0.0064 - acc: 0.9987 - val_loss: 0.0813 - val_acc: 0.9917\n",
      "Epoch 43/80\n",
      "33600/33600 [==============================] - 3s 88us/step - loss: 0.0079 - acc: 0.9989 - val_loss: 0.0867 - val_acc: 0.9914\n",
      "Epoch 44/80\n",
      "33600/33600 [==============================] - 3s 88us/step - loss: 0.0081 - acc: 0.9986 - val_loss: 0.1105 - val_acc: 0.9886\n",
      "Epoch 45/80\n",
      "33600/33600 [==============================] - 3s 88us/step - loss: 0.0047 - acc: 0.9992 - val_loss: 0.0963 - val_acc: 0.9908\n",
      "Epoch 46/80\n",
      "33600/33600 [==============================] - 3s 88us/step - loss: 0.0068 - acc: 0.9990 - val_loss: 0.1003 - val_acc: 0.9905\n",
      "Epoch 47/80\n",
      "33600/33600 [==============================] - 3s 89us/step - loss: 0.0064 - acc: 0.9989 - val_loss: 0.0757 - val_acc: 0.9917\n",
      "Epoch 48/80\n",
      "33600/33600 [==============================] - 3s 88us/step - loss: 0.0061 - acc: 0.9989 - val_loss: 0.0979 - val_acc: 0.9904\n",
      "Epoch 49/80\n",
      "33600/33600 [==============================] - 3s 88us/step - loss: 0.0068 - acc: 0.9991 - val_loss: 0.0885 - val_acc: 0.9912\n",
      "Epoch 50/80\n",
      "33600/33600 [==============================] - 3s 88us/step - loss: 0.0083 - acc: 0.9988 - val_loss: 0.0986 - val_acc: 0.9906\n",
      "Epoch 51/80\n",
      "33600/33600 [==============================] - 3s 88us/step - loss: 0.0102 - acc: 0.9985 - val_loss: 0.0888 - val_acc: 0.9917\n",
      "Epoch 52/80\n",
      "33600/33600 [==============================] - 3s 88us/step - loss: 0.0066 - acc: 0.9992 - val_loss: 0.0975 - val_acc: 0.9911\n",
      "Epoch 53/80\n",
      "33600/33600 [==============================] - 3s 87us/step - loss: 0.0080 - acc: 0.9986 - val_loss: 0.0934 - val_acc: 0.9904\n",
      "Epoch 54/80\n",
      "33600/33600 [==============================] - 3s 89us/step - loss: 0.0090 - acc: 0.9986 - val_loss: 0.0913 - val_acc: 0.9913\n",
      "Epoch 55/80\n",
      "33600/33600 [==============================] - 3s 88us/step - loss: 0.0090 - acc: 0.9988 - val_loss: 0.0995 - val_acc: 0.9905\n",
      "Epoch 56/80\n",
      "33600/33600 [==============================] - 3s 88us/step - loss: 0.0075 - acc: 0.9990 - val_loss: 0.0946 - val_acc: 0.9908\n",
      "Epoch 57/80\n",
      "33600/33600 [==============================] - 3s 88us/step - loss: 0.0060 - acc: 0.9991 - val_loss: 0.0867 - val_acc: 0.9917\n",
      "Epoch 58/80\n",
      "33600/33600 [==============================] - 3s 88us/step - loss: 0.0054 - acc: 0.9991 - val_loss: 0.0913 - val_acc: 0.9911\n",
      "Epoch 59/80\n",
      "33600/33600 [==============================] - 3s 88us/step - loss: 0.0035 - acc: 0.9995 - val_loss: 0.0878 - val_acc: 0.9911\n",
      "Epoch 60/80\n"
     ]
    },
    {
     "name": "stdout",
     "output_type": "stream",
     "text": [
      "33600/33600 [==============================] - 3s 88us/step - loss: 0.0036 - acc: 0.9992 - val_loss: 0.0934 - val_acc: 0.9906\n",
      "Epoch 61/80\n",
      "33600/33600 [==============================] - 3s 88us/step - loss: 0.0053 - acc: 0.9990 - val_loss: 0.0775 - val_acc: 0.9920\n",
      "Epoch 62/80\n",
      "33600/33600 [==============================] - 3s 87us/step - loss: 0.0047 - acc: 0.9992 - val_loss: 0.0964 - val_acc: 0.9915\n",
      "Epoch 63/80\n",
      "33600/33600 [==============================] - 3s 88us/step - loss: 0.0045 - acc: 0.9992 - val_loss: 0.0878 - val_acc: 0.9924\n",
      "Epoch 64/80\n",
      "33600/33600 [==============================] - 3s 88us/step - loss: 0.0067 - acc: 0.9990 - val_loss: 0.0923 - val_acc: 0.9908\n",
      "Epoch 65/80\n",
      "33600/33600 [==============================] - 3s 89us/step - loss: 0.0069 - acc: 0.9990 - val_loss: 0.0931 - val_acc: 0.9908\n",
      "Epoch 66/80\n",
      "33600/33600 [==============================] - 3s 88us/step - loss: 0.0103 - acc: 0.9987 - val_loss: 0.0802 - val_acc: 0.9923\n",
      "Epoch 67/80\n",
      "33600/33600 [==============================] - 3s 89us/step - loss: 0.0064 - acc: 0.9991 - val_loss: 0.1003 - val_acc: 0.9910\n",
      "Epoch 68/80\n",
      "33600/33600 [==============================] - 3s 89us/step - loss: 0.0051 - acc: 0.9991 - val_loss: 0.0862 - val_acc: 0.9917\n",
      "Epoch 69/80\n",
      "33600/33600 [==============================] - 3s 88us/step - loss: 0.0040 - acc: 0.9992 - val_loss: 0.0814 - val_acc: 0.9925\n",
      "Epoch 70/80\n",
      "33600/33600 [==============================] - 3s 88us/step - loss: 0.0054 - acc: 0.9993 - val_loss: 0.0922 - val_acc: 0.9919\n",
      "Epoch 71/80\n",
      "33600/33600 [==============================] - 3s 88us/step - loss: 0.0048 - acc: 0.9994 - val_loss: 0.0776 - val_acc: 0.9912\n",
      "Epoch 72/80\n",
      "33600/33600 [==============================] - 3s 88us/step - loss: 0.0057 - acc: 0.9991 - val_loss: 0.0841 - val_acc: 0.9921\n",
      "Epoch 73/80\n",
      "33600/33600 [==============================] - 3s 89us/step - loss: 0.0036 - acc: 0.9996 - val_loss: 0.0909 - val_acc: 0.9914\n",
      "Epoch 74/80\n",
      "33600/33600 [==============================] - 3s 89us/step - loss: 0.0033 - acc: 0.9994 - val_loss: 0.1101 - val_acc: 0.9901\n",
      "Epoch 75/80\n",
      "33600/33600 [==============================] - 3s 88us/step - loss: 0.0051 - acc: 0.9992 - val_loss: 0.1101 - val_acc: 0.9892\n",
      "Epoch 76/80\n",
      "33600/33600 [==============================] - 3s 88us/step - loss: 0.0048 - acc: 0.9993 - val_loss: 0.0802 - val_acc: 0.9923\n",
      "Epoch 77/80\n",
      "33600/33600 [==============================] - 3s 89us/step - loss: 0.0061 - acc: 0.9993 - val_loss: 0.1046 - val_acc: 0.9900\n",
      "Epoch 78/80\n",
      "33600/33600 [==============================] - 3s 89us/step - loss: 0.0054 - acc: 0.9991 - val_loss: 0.0827 - val_acc: 0.9924\n",
      "Epoch 79/80\n",
      "33600/33600 [==============================] - 3s 88us/step - loss: 0.0029 - acc: 0.9995 - val_loss: 0.0969 - val_acc: 0.9912\n",
      "Epoch 80/80\n",
      "33600/33600 [==============================] - 3s 88us/step - loss: 0.0030 - acc: 0.9994 - val_loss: 0.0876 - val_acc: 0.9917\n",
      "Test loss: 0.08755159742011888\n",
      "Test accuracy: 0.9916666666666667\n"
     ]
    }
   ],
   "source": [
    "model.compile(loss='categorical_crossentropy',\n",
    "              optimizer=RMSprop(),\n",
    "              metrics=['accuracy'])\n",
    " \n",
    "history = model.fit(x_train, y_train,\n",
    "                    batch_size=batch_size,\n",
    "                    epochs=80,\n",
    "                    verbose=1,\n",
    "                    validation_data=(x_test, y_test))\n",
    "score = model.evaluate(x_test, y_test, verbose=0)\n",
    "print('Test loss:', score[0])\n",
    "print('Test accuracy:', score[1])"
   ]
  },
  {
   "cell_type": "code",
   "execution_count": 73,
   "metadata": {},
   "outputs": [],
   "source": [
    "pred_test = pred_test.reshape(pred_test.shape[0], 28,28,1).astype('float32')/255\n",
    "pred = model.predict_classes(pred_test)"
   ]
  },
  {
   "cell_type": "code",
   "execution_count": 74,
   "metadata": {},
   "outputs": [],
   "source": [
    "flush_predictons(pred, output_name='keras_cnn2.csv')"
   ]
  },
  {
   "cell_type": "code",
   "execution_count": 75,
   "metadata": {},
   "outputs": [],
   "source": [
    "model.save(\"keras_cnn2.h5\")"
   ]
  },
  {
   "cell_type": "code",
   "execution_count": null,
   "metadata": {},
   "outputs": [],
   "source": [
    "#from keras.models import load_model\n",
    "\n",
    "#model = load_model(\"keras_cnn.h5\")"
   ]
  },
  {
   "cell_type": "code",
   "execution_count": null,
   "metadata": {},
   "outputs": [],
   "source": []
  }
 ],
 "metadata": {
  "kernelspec": {
   "display_name": "Python 3",
   "language": "python",
   "name": "python3"
  },
  "language_info": {
   "codemirror_mode": {
    "name": "ipython",
    "version": 3
   },
   "file_extension": ".py",
   "mimetype": "text/x-python",
   "name": "python",
   "nbconvert_exporter": "python",
   "pygments_lexer": "ipython3",
   "version": "3.6.4"
  }
 },
 "nbformat": 4,
 "nbformat_minor": 2
}
