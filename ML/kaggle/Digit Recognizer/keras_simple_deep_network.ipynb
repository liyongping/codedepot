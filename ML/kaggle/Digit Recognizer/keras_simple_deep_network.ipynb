{
 "cells": [
  {
   "cell_type": "markdown",
   "metadata": {},
   "source": [
    "# https://www.kaggle.com/c/digit-recognizer/\n",
    "# with keras + simple deep network, scored 0.9785714285714285"
   ]
  },
  {
   "cell_type": "code",
   "execution_count": 44,
   "metadata": {},
   "outputs": [],
   "source": [
    "import numpy as np \n",
    "import pandas as pd \n",
    "import matplotlib.pyplot as plt \n",
    "from sklearn.model_selection import train_test_split"
   ]
  },
  {
   "cell_type": "code",
   "execution_count": 45,
   "metadata": {},
   "outputs": [],
   "source": [
    "# load csv files to numpy arrays\n",
    "\n",
    "def load_data():\n",
    "    train = pd.read_csv(\"train.csv\")\n",
    "    X_train = train.values[:,1:] \n",
    "    y_train = train.values[:,0]\n",
    "    \n",
    "    Pred_test = pd.read_csv(\"test.csv\").values\n",
    "    return X_train, y_train, Pred_test\n",
    "\n",
    "def flush_predictons(predictions, output_name='out.csv'):\n",
    "    '''\n",
    "    predictions is a np.array of int \n",
    "    '''\n",
    "    imgs = pd.Series(range(1,pred_test.shape[0]+1))\n",
    "    imgd = pd.DataFrame(imgs)\n",
    "    \n",
    "    labeld = pd.DataFrame(predictions)\n",
    "    out = pd.concat([imgd, labeld],axis=1)\n",
    "    out.columns = [\"ImageId\", \"Label\"]\n",
    "    out.to_csv(output_name, index = False)\n",
    "    \n",
    "x_train, y_train, pred_test = load_data()"
   ]
  },
  {
   "cell_type": "code",
   "execution_count": 46,
   "metadata": {
    "scrolled": true
   },
   "outputs": [
    {
     "name": "stdout",
     "output_type": "stream",
     "text": [
      "(42000, 784) (42000,) (28000, 784)\n"
     ]
    }
   ],
   "source": [
    "print(x_train.shape, y_train.shape, pred_test.shape)"
   ]
  },
  {
   "cell_type": "code",
   "execution_count": 47,
   "metadata": {
    "scrolled": true
   },
   "outputs": [
    {
     "name": "stderr",
     "output_type": "stream",
     "text": [
      "/Users/vincent/anaconda3/lib/python3.6/site-packages/sklearn/model_selection/_split.py:2026: FutureWarning: From version 0.21, test_size will always complement train_size unless both are specified.\n",
      "  FutureWarning)\n"
     ]
    },
    {
     "name": "stdout",
     "output_type": "stream",
     "text": [
      "(33600, 784) (33600,) (8400, 784) (8400,)\n"
     ]
    }
   ],
   "source": [
    "x_train, x_test, y_train, y_test = train_test_split(x_train, y_train, train_size=0.8, random_state=0)\n",
    "print(x_train.shape, y_train.shape, x_test.shape, y_test.shape)"
   ]
  },
  {
   "cell_type": "code",
   "execution_count": 48,
   "metadata": {},
   "outputs": [
    {
     "data": {
      "text/plain": [
       "<matplotlib.image.AxesImage at 0x1a1827ea90>"
      ]
     },
     "execution_count": 48,
     "metadata": {},
     "output_type": "execute_result"
    },
    {
     "data": {
      "image/png": "[encoded data removed]",
      "text/plain": [
       "<Figure size 432x288 with 1 Axes>"
      ]
     },
     "metadata": {},
     "output_type": "display_data"
    }
   ],
   "source": [
    "plt.imshow(x_train[4].reshape(28, 28))"
   ]
  },
  {
   "cell_type": "code",
   "execution_count": 49,
   "metadata": {},
   "outputs": [],
   "source": [
    "from keras import models, layers\n",
    "import keras\n",
    "from keras.models import Sequential\n",
    "from keras.layers import Dense, Dropout\n",
    "from keras.optimizers import RMSprop"
   ]
  },
  {
   "cell_type": "code",
   "execution_count": 50,
   "metadata": {},
   "outputs": [],
   "source": [
    "# data preprocessing for keras\n",
    "x_train = x_train.reshape(x_train.shape[0], 784).astype('float32')/255\n",
    "x_test  = x_test.reshape(x_test.shape[0], 784).astype('float32')/255"
   ]
  },
  {
   "cell_type": "code",
   "execution_count": 51,
   "metadata": {},
   "outputs": [],
   "source": [
    "batch_size = 128\n",
    "num_classes = 10\n",
    "epochs = 20"
   ]
  },
  {
   "cell_type": "code",
   "execution_count": 52,
   "metadata": {},
   "outputs": [],
   "source": [
    "# one-hot\n",
    "y_train = keras.utils.to_categorical(y_train, num_classes)\n",
    "y_test = keras.utils.to_categorical(y_test, num_classes)"
   ]
  },
  {
   "cell_type": "code",
   "execution_count": 53,
   "metadata": {},
   "outputs": [
    {
     "name": "stdout",
     "output_type": "stream",
     "text": [
      "_________________________________________________________________\n",
      "Layer (type)                 Output Shape              Param #   \n",
      "=================================================================\n",
      "dense_7 (Dense)              (None, 512)               401920    \n",
      "_________________________________________________________________\n",
      "dropout_5 (Dropout)          (None, 512)               0         \n",
      "_________________________________________________________________\n",
      "dense_8 (Dense)              (None, 256)               131328    \n",
      "_________________________________________________________________\n",
      "dropout_6 (Dropout)          (None, 256)               0         \n",
      "_________________________________________________________________\n",
      "dense_9 (Dense)              (None, 10)                2570      \n",
      "=================================================================\n",
      "Total params: 535,818\n",
      "Trainable params: 535,818\n",
      "Non-trainable params: 0\n",
      "_________________________________________________________________\n"
     ]
    }
   ],
   "source": [
    "model = Sequential()\n",
    "model.add(Dense(512, activation='relu', input_shape=(784,)))\n",
    "model.add(Dropout(0.2))\n",
    "model.add(Dense(256, activation='relu'))\n",
    "model.add(Dropout(0.2))\n",
    "model.add(Dense(10, activation='softmax'))\n",
    " \n",
    "model.summary()"
   ]
  },
  {
   "cell_type": "code",
   "execution_count": 54,
   "metadata": {},
   "outputs": [
    {
     "name": "stdout",
     "output_type": "stream",
     "text": [
      "Train on 33600 samples, validate on 8400 samples\n",
      "Epoch 1/20\n",
      "33600/33600 [==============================] - 3s 77us/step - loss: 0.3344 - acc: 0.8959 - val_loss: 0.1716 - val_acc: 0.9475\n",
      "Epoch 2/20\n",
      "33600/33600 [==============================] - 2s 70us/step - loss: 0.1370 - acc: 0.9580 - val_loss: 0.1330 - val_acc: 0.9611\n",
      "Epoch 3/20\n",
      "33600/33600 [==============================] - 2s 69us/step - loss: 0.0952 - acc: 0.9706 - val_loss: 0.1097 - val_acc: 0.9676\n",
      "Epoch 4/20\n",
      "33600/33600 [==============================] - 2s 70us/step - loss: 0.0717 - acc: 0.9774 - val_loss: 0.1014 - val_acc: 0.9717\n",
      "Epoch 5/20\n",
      "33600/33600 [==============================] - 2s 68us/step - loss: 0.0583 - acc: 0.9814 - val_loss: 0.0952 - val_acc: 0.9746\n",
      "Epoch 6/20\n",
      "33600/33600 [==============================] - 2s 69us/step - loss: 0.0474 - acc: 0.9850 - val_loss: 0.1017 - val_acc: 0.9758\n",
      "Epoch 7/20\n",
      "33600/33600 [==============================] - 2s 71us/step - loss: 0.0386 - acc: 0.9878 - val_loss: 0.1029 - val_acc: 0.9765\n",
      "Epoch 8/20\n",
      "33600/33600 [==============================] - 2s 68us/step - loss: 0.0341 - acc: 0.9886 - val_loss: 0.1152 - val_acc: 0.9713\n",
      "Epoch 9/20\n",
      "33600/33600 [==============================] - 2s 70us/step - loss: 0.0307 - acc: 0.9905 - val_loss: 0.1062 - val_acc: 0.9767\n",
      "Epoch 10/20\n",
      "33600/33600 [==============================] - 2s 71us/step - loss: 0.0253 - acc: 0.9918 - val_loss: 0.1064 - val_acc: 0.9777\n",
      "Epoch 11/20\n",
      "33600/33600 [==============================] - 2s 70us/step - loss: 0.0248 - acc: 0.9921 - val_loss: 0.1171 - val_acc: 0.9763\n",
      "Epoch 12/20\n",
      "33600/33600 [==============================] - 2s 70us/step - loss: 0.0212 - acc: 0.9932 - val_loss: 0.1241 - val_acc: 0.9770\n",
      "Epoch 13/20\n",
      "33600/33600 [==============================] - 2s 70us/step - loss: 0.0207 - acc: 0.9931 - val_loss: 0.1167 - val_acc: 0.9780\n",
      "Epoch 14/20\n",
      "33600/33600 [==============================] - 2s 69us/step - loss: 0.0188 - acc: 0.9938 - val_loss: 0.1303 - val_acc: 0.9767\n",
      "Epoch 15/20\n",
      "33600/33600 [==============================] - 2s 70us/step - loss: 0.0175 - acc: 0.9949 - val_loss: 0.1418 - val_acc: 0.9773\n",
      "Epoch 16/20\n",
      "33600/33600 [==============================] - 2s 70us/step - loss: 0.0174 - acc: 0.9946 - val_loss: 0.1224 - val_acc: 0.9798\n",
      "Epoch 17/20\n",
      "33600/33600 [==============================] - 2s 74us/step - loss: 0.0147 - acc: 0.9951 - val_loss: 0.1481 - val_acc: 0.9751\n",
      "Epoch 18/20\n",
      "33600/33600 [==============================] - 2s 71us/step - loss: 0.0134 - acc: 0.9956 - val_loss: 0.1344 - val_acc: 0.9769\n",
      "Epoch 19/20\n",
      "33600/33600 [==============================] - 2s 72us/step - loss: 0.0140 - acc: 0.9956 - val_loss: 0.1471 - val_acc: 0.9775\n",
      "Epoch 20/20\n",
      "33600/33600 [==============================] - 2s 74us/step - loss: 0.0110 - acc: 0.9963 - val_loss: 0.1594 - val_acc: 0.9773\n",
      "Test loss: 0.15939997564709427\n",
      "Test accuracy: 0.9772619047619048\n"
     ]
    }
   ],
   "source": [
    "model.compile(loss='categorical_crossentropy',\n",
    "              optimizer=RMSprop(),\n",
    "              metrics=['accuracy'])\n",
    " \n",
    "history = model.fit(x_train, y_train,\n",
    "                    batch_size=batch_size,\n",
    "                    epochs=epochs,\n",
    "                    verbose=1,\n",
    "                    validation_data=(x_test, y_test))\n",
    "score = model.evaluate(x_test, y_test, verbose=0)\n",
    "print('Test loss:', score[0])\n",
    "print('Test accuracy:', score[1])"
   ]
  },
  {
   "cell_type": "code",
   "execution_count": 55,
   "metadata": {},
   "outputs": [],
   "source": [
    "pred_test = pred_test.reshape(pred_test.shape[0], 784).astype('float32')/255\n",
    "pred = model.predict_classes(pred_test)"
   ]
  },
  {
   "cell_type": "code",
   "execution_count": null,
   "metadata": {},
   "outputs": [],
   "source": []
  }
 ],
 "metadata": {
  "kernelspec": {
   "display_name": "Python 3",
   "language": "python",
   "name": "python3"
  },
  "language_info": {
   "codemirror_mode": {
    "name": "ipython",
    "version": 3
   },
   "file_extension": ".py",
   "mimetype": "text/x-python",
   "name": "python",
   "nbconvert_exporter": "python",
   "pygments_lexer": "ipython3",
   "version": "3.6.5"
  }
 },
 "nbformat": 4,
 "nbformat_minor": 2
}
