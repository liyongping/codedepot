{
 "cells": [
  {
   "cell_type": "markdown",
   "metadata": {},
   "source": [
    "# https://www.kaggle.com/c/digit-recognizer/\n",
    "# with keras + resnet, scored 0.9785714285714285\n",
    "# refer to https://github.com/broadinstitute/keras-resnet"
   ]
  },
  {
   "cell_type": "code",
   "execution_count": 1,
   "metadata": {},
   "outputs": [],
   "source": [
    "import numpy as np \n",
    "import pandas as pd \n",
    "import matplotlib.pyplot as plt \n",
    "from sklearn.model_selection import train_test_split"
   ]
  },
  {
   "cell_type": "code",
   "execution_count": 2,
   "metadata": {},
   "outputs": [],
   "source": [
    "# load csv files to numpy arrays\n",
    "\n",
    "def load_data():\n",
    "    train = pd.read_csv(\"train.csv\")\n",
    "    X_train = train.values[:,1:] \n",
    "    y_train = train.values[:,0]\n",
    "    \n",
    "    Pred_test = pd.read_csv(\"test.csv\").values\n",
    "    return X_train, y_train, Pred_test\n",
    "\n",
    "def flush_predictons(predictions, output_name='out.csv'):\n",
    "    '''\n",
    "    predictions is a np.array of int \n",
    "    '''\n",
    "    imgs = pd.Series(range(1,pred_test.shape[0]+1))\n",
    "    imgd = pd.DataFrame(imgs)\n",
    "    \n",
    "    labeld = pd.DataFrame(predictions)\n",
    "    out = pd.concat([imgd, labeld],axis=1)\n",
    "    out.columns = [\"ImageId\", \"Label\"]\n",
    "    out.to_csv(output_name, index = False)\n",
    "    \n",
    "x_train, y_train, pred_test = load_data()"
   ]
  },
  {
   "cell_type": "code",
   "execution_count": 3,
   "metadata": {
    "scrolled": true
   },
   "outputs": [
    {
     "name": "stdout",
     "output_type": "stream",
     "text": [
      "(42000, 784) (42000,) (28000, 784)\n"
     ]
    }
   ],
   "source": [
    "print(x_train.shape, y_train.shape, pred_test.shape)"
   ]
  },
  {
   "cell_type": "code",
   "execution_count": 4,
   "metadata": {
    "scrolled": true
   },
   "outputs": [
    {
     "name": "stderr",
     "output_type": "stream",
     "text": [
      "C:\\ProgramData\\Anaconda3\\lib\\site-packages\\sklearn\\model_selection\\_split.py:2026: FutureWarning: From version 0.21, test_size will always complement train_size unless both are specified.\n",
      "  FutureWarning)\n"
     ]
    },
    {
     "name": "stdout",
     "output_type": "stream",
     "text": [
      "(33600, 784) (33600,) (8400, 784) (8400,)\n"
     ]
    }
   ],
   "source": [
    "x_train, x_test, y_train, y_test = train_test_split(x_train, y_train, train_size=0.8, random_state=0)\n",
    "print(x_train.shape, y_train.shape, x_test.shape, y_test.shape)"
   ]
  },
  {
   "cell_type": "code",
   "execution_count": 5,
   "metadata": {},
   "outputs": [
    {
     "data": {
      "text/plain": [
       "<matplotlib.image.AxesImage at 0x1da24f60be0>"
      ]
     },
     "execution_count": 5,
     "metadata": {},
     "output_type": "execute_result"
    },
    {
     "data": {
      "image/png": "[encoded data removed]",
      "text/plain": [
       "<matplotlib.figure.Figure at 0x1da24ed0a58>"
      ]
     },
     "metadata": {},
     "output_type": "display_data"
    }
   ],
   "source": [
    "plt.imshow(x_train[4].reshape(28, 28))"
   ]
  },
  {
   "cell_type": "code",
   "execution_count": 6,
   "metadata": {},
   "outputs": [
    {
     "name": "stderr",
     "output_type": "stream",
     "text": [
      "C:\\ProgramData\\Anaconda3\\lib\\site-packages\\h5py\\__init__.py:36: FutureWarning: Conversion of the second argument of issubdtype from `float` to `np.floating` is deprecated. In future, it will be treated as `np.float64 == np.dtype(float).type`.\n",
      "  from ._conv import register_converters as _register_converters\n",
      "Using TensorFlow backend.\n"
     ]
    }
   ],
   "source": [
    "from keras import models, layers\n",
    "import keras\n",
    "from keras.models import Sequential\n",
    "from keras.layers import Dense, Dropout, Activation, Conv2D, MaxPool2D, Flatten, ZeroPadding2D, BatchNormalization\n",
    "from keras.optimizers import RMSprop"
   ]
  },
  {
   "cell_type": "code",
   "execution_count": 7,
   "metadata": {},
   "outputs": [],
   "source": [
    "# data preprocessing for keras CNN\n",
    "x_train = x_train.reshape(x_train.shape[0], 28,28,1).astype('float32')/255\n",
    "x_test  = x_test.reshape(x_test.shape[0], 28,28,1).astype('float32')/255\n",
    "pred_test = pred_test.reshape(pred_test.shape[0], 28,28,1).astype('float32')/255"
   ]
  },
  {
   "cell_type": "code",
   "execution_count": 8,
   "metadata": {},
   "outputs": [],
   "source": [
    "batch_size = 64\n",
    "num_classes = 10\n",
    "epochs = 20\n",
    "pool_size=(2,2)"
   ]
  },
  {
   "cell_type": "code",
   "execution_count": 9,
   "metadata": {},
   "outputs": [],
   "source": [
    "# one-hot\n",
    "y_train = keras.utils.to_categorical(y_train, num_classes)\n",
    "y_test = keras.utils.to_categorical(y_test, num_classes)"
   ]
  },
  {
   "cell_type": "code",
   "execution_count": 10,
   "metadata": {},
   "outputs": [
    {
     "name": "stdout",
     "output_type": "stream",
     "text": [
      "(33600, 28, 28, 1) (33600, 10) (8400, 28, 28, 1) (8400, 10)\n"
     ]
    }
   ],
   "source": [
    "print(x_train.shape, y_train.shape, x_test.shape, y_test.shape)"
   ]
  },
  {
   "cell_type": "code",
   "execution_count": 11,
   "metadata": {},
   "outputs": [],
   "source": [
    "import keras_resnet.models"
   ]
  },
  {
   "cell_type": "code",
   "execution_count": 19,
   "metadata": {},
   "outputs": [],
   "source": [
    "x = keras.layers.Input(shape=(28,28,1,))\n",
    "model = keras_resnet.models.ResNet18(x, classes=num_classes)"
   ]
  },
  {
   "cell_type": "code",
   "execution_count": 20,
   "metadata": {},
   "outputs": [
    {
     "name": "stdout",
     "output_type": "stream",
     "text": [
      "__________________________________________________________________________________________________\n",
      "Layer (type)                    Output Shape         Param #     Connected to                     \n",
      "==================================================================================================\n",
      "input_2 (InputLayer)            (None, 28, 28, 1)    0                                            \n",
      "__________________________________________________________________________________________________\n",
      "padding_conv1 (ZeroPadding2D)   (None, 34, 34, 1)    0           input_2[0][0]                    \n",
      "__________________________________________________________________________________________________\n",
      "conv1 (Conv2D)                  (None, 14, 14, 64)   3136        padding_conv1[0][0]              \n",
      "__________________________________________________________________________________________________\n",
      "bn_conv1 (BatchNormalization)   (None, 14, 14, 64)   256         conv1[0][0]                      \n",
      "__________________________________________________________________________________________________\n",
      "conv1_relu (Activation)         (None, 14, 14, 64)   0           bn_conv1[0][0]                   \n",
      "__________________________________________________________________________________________________\n",
      "pool1 (MaxPooling2D)            (None, 7, 7, 64)     0           conv1_relu[0][0]                 \n",
      "__________________________________________________________________________________________________\n",
      "padding2a_branch2a (ZeroPadding (None, 9, 9, 64)     0           pool1[0][0]                      \n",
      "__________________________________________________________________________________________________\n",
      "res2a_branch2a (Conv2D)         (None, 7, 7, 64)     36864       padding2a_branch2a[0][0]         \n",
      "__________________________________________________________________________________________________\n",
      "bn2a_branch2a (BatchNormalizati (None, 7, 7, 64)     256         res2a_branch2a[0][0]             \n",
      "__________________________________________________________________________________________________\n",
      "res2a_branch2a_relu (Activation (None, 7, 7, 64)     0           bn2a_branch2a[0][0]              \n",
      "__________________________________________________________________________________________________\n",
      "padding2a_branch2b (ZeroPadding (None, 9, 9, 64)     0           res2a_branch2a_relu[0][0]        \n",
      "__________________________________________________________________________________________________\n",
      "res2a_branch2b (Conv2D)         (None, 7, 7, 64)     36864       padding2a_branch2b[0][0]         \n",
      "__________________________________________________________________________________________________\n",
      "res2a_branch1 (Conv2D)          (None, 7, 7, 64)     4096        pool1[0][0]                      \n",
      "__________________________________________________________________________________________________\n",
      "bn2a_branch2b (BatchNormalizati (None, 7, 7, 64)     256         res2a_branch2b[0][0]             \n",
      "__________________________________________________________________________________________________\n",
      "bn2a_branch1 (BatchNormalizatio (None, 7, 7, 64)     256         res2a_branch1[0][0]              \n",
      "__________________________________________________________________________________________________\n",
      "res2a (Add)                     (None, 7, 7, 64)     0           bn2a_branch2b[0][0]              \n",
      "                                                                 bn2a_branch1[0][0]               \n",
      "__________________________________________________________________________________________________\n",
      "res2a_relu (Activation)         (None, 7, 7, 64)     0           res2a[0][0]                      \n",
      "__________________________________________________________________________________________________\n",
      "padding2b1_branch2a (ZeroPaddin (None, 9, 9, 64)     0           res2a_relu[0][0]                 \n",
      "__________________________________________________________________________________________________\n",
      "res2b1_branch2a (Conv2D)        (None, 7, 7, 64)     36864       padding2b1_branch2a[0][0]        \n",
      "__________________________________________________________________________________________________\n",
      "bn2b1_branch2a (BatchNormalizat (None, 7, 7, 64)     256         res2b1_branch2a[0][0]            \n",
      "__________________________________________________________________________________________________\n",
      "res2b1_branch2a_relu (Activatio (None, 7, 7, 64)     0           bn2b1_branch2a[0][0]             \n",
      "__________________________________________________________________________________________________\n",
      "padding2b1_branch2b (ZeroPaddin (None, 9, 9, 64)     0           res2b1_branch2a_relu[0][0]       \n",
      "__________________________________________________________________________________________________\n",
      "res2b1_branch2b (Conv2D)        (None, 7, 7, 64)     36864       padding2b1_branch2b[0][0]        \n",
      "__________________________________________________________________________________________________\n",
      "bn2b1_branch2b (BatchNormalizat (None, 7, 7, 64)     256         res2b1_branch2b[0][0]            \n",
      "__________________________________________________________________________________________________\n",
      "res2b1 (Add)                    (None, 7, 7, 64)     0           bn2b1_branch2b[0][0]             \n",
      "                                                                 res2a_relu[0][0]                 \n",
      "__________________________________________________________________________________________________\n",
      "res2b1_relu (Activation)        (None, 7, 7, 64)     0           res2b1[0][0]                     \n",
      "__________________________________________________________________________________________________\n",
      "padding3a_branch2a (ZeroPadding (None, 9, 9, 64)     0           res2b1_relu[0][0]                \n",
      "__________________________________________________________________________________________________\n",
      "res3a_branch2a (Conv2D)         (None, 4, 4, 128)    73728       padding3a_branch2a[0][0]         \n",
      "__________________________________________________________________________________________________\n",
      "bn3a_branch2a (BatchNormalizati (None, 4, 4, 128)    512         res3a_branch2a[0][0]             \n",
      "__________________________________________________________________________________________________\n",
      "res3a_branch2a_relu (Activation (None, 4, 4, 128)    0           bn3a_branch2a[0][0]              \n",
      "__________________________________________________________________________________________________\n",
      "padding3a_branch2b (ZeroPadding (None, 6, 6, 128)    0           res3a_branch2a_relu[0][0]        \n",
      "__________________________________________________________________________________________________\n",
      "res3a_branch2b (Conv2D)         (None, 4, 4, 128)    147456      padding3a_branch2b[0][0]         \n",
      "__________________________________________________________________________________________________\n",
      "res3a_branch1 (Conv2D)          (None, 4, 4, 128)    8192        res2b1_relu[0][0]                \n",
      "__________________________________________________________________________________________________\n",
      "bn3a_branch2b (BatchNormalizati (None, 4, 4, 128)    512         res3a_branch2b[0][0]             \n",
      "__________________________________________________________________________________________________\n",
      "bn3a_branch1 (BatchNormalizatio (None, 4, 4, 128)    512         res3a_branch1[0][0]              \n",
      "__________________________________________________________________________________________________\n",
      "res3a (Add)                     (None, 4, 4, 128)    0           bn3a_branch2b[0][0]              \n",
      "                                                                 bn3a_branch1[0][0]               \n",
      "__________________________________________________________________________________________________\n",
      "res3a_relu (Activation)         (None, 4, 4, 128)    0           res3a[0][0]                      \n",
      "__________________________________________________________________________________________________\n",
      "padding3b1_branch2a (ZeroPaddin (None, 6, 6, 128)    0           res3a_relu[0][0]                 \n",
      "__________________________________________________________________________________________________\n",
      "res3b1_branch2a (Conv2D)        (None, 4, 4, 128)    147456      padding3b1_branch2a[0][0]        \n",
      "__________________________________________________________________________________________________\n",
      "bn3b1_branch2a (BatchNormalizat (None, 4, 4, 128)    512         res3b1_branch2a[0][0]            \n",
      "__________________________________________________________________________________________________\n",
      "res3b1_branch2a_relu (Activatio (None, 4, 4, 128)    0           bn3b1_branch2a[0][0]             \n",
      "__________________________________________________________________________________________________\n",
      "padding3b1_branch2b (ZeroPaddin (None, 6, 6, 128)    0           res3b1_branch2a_relu[0][0]       \n",
      "__________________________________________________________________________________________________\n",
      "res3b1_branch2b (Conv2D)        (None, 4, 4, 128)    147456      padding3b1_branch2b[0][0]        \n",
      "__________________________________________________________________________________________________\n",
      "bn3b1_branch2b (BatchNormalizat (None, 4, 4, 128)    512         res3b1_branch2b[0][0]            \n",
      "__________________________________________________________________________________________________\n",
      "res3b1 (Add)                    (None, 4, 4, 128)    0           bn3b1_branch2b[0][0]             \n",
      "                                                                 res3a_relu[0][0]                 \n",
      "__________________________________________________________________________________________________\n",
      "res3b1_relu (Activation)        (None, 4, 4, 128)    0           res3b1[0][0]                     \n",
      "__________________________________________________________________________________________________\n",
      "padding4a_branch2a (ZeroPadding (None, 6, 6, 128)    0           res3b1_relu[0][0]                \n",
      "__________________________________________________________________________________________________\n",
      "res4a_branch2a (Conv2D)         (None, 2, 2, 256)    294912      padding4a_branch2a[0][0]         \n",
      "__________________________________________________________________________________________________\n",
      "bn4a_branch2a (BatchNormalizati (None, 2, 2, 256)    1024        res4a_branch2a[0][0]             \n",
      "__________________________________________________________________________________________________\n",
      "res4a_branch2a_relu (Activation (None, 2, 2, 256)    0           bn4a_branch2a[0][0]              \n",
      "__________________________________________________________________________________________________\n",
      "padding4a_branch2b (ZeroPadding (None, 4, 4, 256)    0           res4a_branch2a_relu[0][0]        \n",
      "__________________________________________________________________________________________________\n",
      "res4a_branch2b (Conv2D)         (None, 2, 2, 256)    589824      padding4a_branch2b[0][0]         \n",
      "__________________________________________________________________________________________________\n",
      "res4a_branch1 (Conv2D)          (None, 2, 2, 256)    32768       res3b1_relu[0][0]                \n",
      "__________________________________________________________________________________________________\n",
      "bn4a_branch2b (BatchNormalizati (None, 2, 2, 256)    1024        res4a_branch2b[0][0]             \n",
      "__________________________________________________________________________________________________\n",
      "bn4a_branch1 (BatchNormalizatio (None, 2, 2, 256)    1024        res4a_branch1[0][0]              \n",
      "__________________________________________________________________________________________________\n",
      "res4a (Add)                     (None, 2, 2, 256)    0           bn4a_branch2b[0][0]              \n",
      "                                                                 bn4a_branch1[0][0]               \n",
      "__________________________________________________________________________________________________\n",
      "res4a_relu (Activation)         (None, 2, 2, 256)    0           res4a[0][0]                      \n",
      "__________________________________________________________________________________________________\n",
      "padding4b1_branch2a (ZeroPaddin (None, 4, 4, 256)    0           res4a_relu[0][0]                 \n",
      "__________________________________________________________________________________________________\n",
      "res4b1_branch2a (Conv2D)        (None, 2, 2, 256)    589824      padding4b1_branch2a[0][0]        \n",
      "__________________________________________________________________________________________________\n",
      "bn4b1_branch2a (BatchNormalizat (None, 2, 2, 256)    1024        res4b1_branch2a[0][0]            \n",
      "__________________________________________________________________________________________________\n",
      "res4b1_branch2a_relu (Activatio (None, 2, 2, 256)    0           bn4b1_branch2a[0][0]             \n",
      "__________________________________________________________________________________________________\n",
      "padding4b1_branch2b (ZeroPaddin (None, 4, 4, 256)    0           res4b1_branch2a_relu[0][0]       \n",
      "__________________________________________________________________________________________________\n",
      "res4b1_branch2b (Conv2D)        (None, 2, 2, 256)    589824      padding4b1_branch2b[0][0]        \n",
      "__________________________________________________________________________________________________\n",
      "bn4b1_branch2b (BatchNormalizat (None, 2, 2, 256)    1024        res4b1_branch2b[0][0]            \n",
      "__________________________________________________________________________________________________\n",
      "res4b1 (Add)                    (None, 2, 2, 256)    0           bn4b1_branch2b[0][0]             \n",
      "                                                                 res4a_relu[0][0]                 \n",
      "__________________________________________________________________________________________________\n",
      "res4b1_relu (Activation)        (None, 2, 2, 256)    0           res4b1[0][0]                     \n",
      "__________________________________________________________________________________________________\n",
      "padding5a_branch2a (ZeroPadding (None, 4, 4, 256)    0           res4b1_relu[0][0]                \n",
      "__________________________________________________________________________________________________\n",
      "res5a_branch2a (Conv2D)         (None, 1, 1, 512)    1179648     padding5a_branch2a[0][0]         \n",
      "__________________________________________________________________________________________________\n",
      "bn5a_branch2a (BatchNormalizati (None, 1, 1, 512)    2048        res5a_branch2a[0][0]             \n",
      "__________________________________________________________________________________________________\n",
      "res5a_branch2a_relu (Activation (None, 1, 1, 512)    0           bn5a_branch2a[0][0]              \n",
      "__________________________________________________________________________________________________\n",
      "padding5a_branch2b (ZeroPadding (None, 3, 3, 512)    0           res5a_branch2a_relu[0][0]        \n",
      "__________________________________________________________________________________________________\n",
      "res5a_branch2b (Conv2D)         (None, 1, 1, 512)    2359296     padding5a_branch2b[0][0]         \n",
      "__________________________________________________________________________________________________\n",
      "res5a_branch1 (Conv2D)          (None, 1, 1, 512)    131072      res4b1_relu[0][0]                \n",
      "__________________________________________________________________________________________________\n",
      "bn5a_branch2b (BatchNormalizati (None, 1, 1, 512)    2048        res5a_branch2b[0][0]             \n",
      "__________________________________________________________________________________________________\n",
      "bn5a_branch1 (BatchNormalizatio (None, 1, 1, 512)    2048        res5a_branch1[0][0]              \n",
      "__________________________________________________________________________________________________\n",
      "res5a (Add)                     (None, 1, 1, 512)    0           bn5a_branch2b[0][0]              \n",
      "                                                                 bn5a_branch1[0][0]               \n",
      "__________________________________________________________________________________________________\n",
      "res5a_relu (Activation)         (None, 1, 1, 512)    0           res5a[0][0]                      \n",
      "__________________________________________________________________________________________________\n",
      "padding5b1_branch2a (ZeroPaddin (None, 3, 3, 512)    0           res5a_relu[0][0]                 \n",
      "__________________________________________________________________________________________________\n",
      "res5b1_branch2a (Conv2D)        (None, 1, 1, 512)    2359296     padding5b1_branch2a[0][0]        \n",
      "__________________________________________________________________________________________________\n",
      "bn5b1_branch2a (BatchNormalizat (None, 1, 1, 512)    2048        res5b1_branch2a[0][0]            \n",
      "__________________________________________________________________________________________________\n",
      "res5b1_branch2a_relu (Activatio (None, 1, 1, 512)    0           bn5b1_branch2a[0][0]             \n",
      "__________________________________________________________________________________________________\n",
      "padding5b1_branch2b (ZeroPaddin (None, 3, 3, 512)    0           res5b1_branch2a_relu[0][0]       \n",
      "__________________________________________________________________________________________________\n",
      "res5b1_branch2b (Conv2D)        (None, 1, 1, 512)    2359296     padding5b1_branch2b[0][0]        \n",
      "__________________________________________________________________________________________________\n",
      "bn5b1_branch2b (BatchNormalizat (None, 1, 1, 512)    2048        res5b1_branch2b[0][0]            \n",
      "__________________________________________________________________________________________________\n",
      "res5b1 (Add)                    (None, 1, 1, 512)    0           bn5b1_branch2b[0][0]             \n",
      "                                                                 res5a_relu[0][0]                 \n",
      "__________________________________________________________________________________________________\n",
      "res5b1_relu (Activation)        (None, 1, 1, 512)    0           res5b1[0][0]                     \n",
      "__________________________________________________________________________________________________\n",
      "pool5 (GlobalAveragePooling2D)  (None, 512)          0           res5b1_relu[0][0]                \n",
      "__________________________________________________________________________________________________\n",
      "fc1000 (Dense)                  (None, 10)           5130        pool5[0][0]                      \n",
      "==================================================================================================\n",
      "Total params: 11,189,322\n",
      "Trainable params: 11,169,866\n",
      "Non-trainable params: 19,456\n",
      "__________________________________________________________________________________________________\n"
     ]
    }
   ],
   "source": [
    "model.summary()"
   ]
  },
  {
   "cell_type": "code",
   "execution_count": 21,
   "metadata": {},
   "outputs": [],
   "source": [
    "# resolve tensorflow error: CUBLAS_STATUS_ALLOC_FAILED\n",
    "import tensorflow as tf\n",
    "from keras.backend.tensorflow_backend import set_session\n",
    "\n",
    "config = tf.ConfigProto(\n",
    "    gpu_options = tf.GPUOptions(per_process_gpu_memory_fraction=0.6)\n",
    "    # device_count = {'GPU': 1}\n",
    ")\n",
    "config.gpu_options.allow_growth = True\n",
    "session = tf.Session(config=config)\n",
    "set_session(session)"
   ]
  },
  {
   "cell_type": "code",
   "execution_count": 25,
   "metadata": {},
   "outputs": [
    {
     "name": "stdout",
     "output_type": "stream",
     "text": [
      "Train on 33600 samples, validate on 8400 samples\n",
      "Epoch 1/80\n",
      "33600/33600 [==============================] - 14s 429us/step - loss: 0.0113 - acc: 0.9982 - val_loss: 0.0747 - val_acc: 0.9894\n",
      "Epoch 2/80\n",
      "33600/33600 [==============================] - 12s 355us/step - loss: 0.0102 - acc: 0.9986 - val_loss: 0.0988 - val_acc: 0.9893\n",
      "Epoch 3/80\n",
      "33600/33600 [==============================] - 12s 354us/step - loss: 0.0196 - acc: 0.9965 - val_loss: 0.0712 - val_acc: 0.9902\n",
      "Epoch 4/80\n",
      "33600/33600 [==============================] - 12s 353us/step - loss: 0.0096 - acc: 0.9984 - val_loss: 0.0836 - val_acc: 0.9900\n",
      "Epoch 5/80\n",
      "33600/33600 [==============================] - 12s 354us/step - loss: 0.0086 - acc: 0.9984 - val_loss: 0.0942 - val_acc: 0.9885\n",
      "Epoch 6/80\n",
      "33600/33600 [==============================] - 12s 354us/step - loss: 0.0152 - acc: 0.9971 - val_loss: 0.0859 - val_acc: 0.9863\n",
      "Epoch 7/80\n",
      "33600/33600 [==============================] - 12s 354us/step - loss: 0.0184 - acc: 0.9966 - val_loss: 0.1044 - val_acc: 0.9863\n",
      "Epoch 8/80\n",
      "33600/33600 [==============================] - 12s 354us/step - loss: 0.0141 - acc: 0.9972 - val_loss: 0.0868 - val_acc: 0.9882\n",
      "Epoch 9/80\n",
      "33600/33600 [==============================] - 12s 354us/step - loss: 0.0097 - acc: 0.9983 - val_loss: 0.1049 - val_acc: 0.9889\n",
      "Epoch 10/80\n",
      "33600/33600 [==============================] - 12s 353us/step - loss: 0.0132 - acc: 0.9979 - val_loss: 0.0916 - val_acc: 0.9896\n",
      "Epoch 11/80\n",
      "33600/33600 [==============================] - 12s 353us/step - loss: 0.0200 - acc: 0.9969 - val_loss: 0.1299 - val_acc: 0.9808\n",
      "Epoch 12/80\n",
      "33600/33600 [==============================] - 12s 354us/step - loss: 0.0102 - acc: 0.9982 - val_loss: 0.0848 - val_acc: 0.9900\n",
      "Epoch 13/80\n",
      "33600/33600 [==============================] - 12s 354us/step - loss: 0.0171 - acc: 0.9972 - val_loss: 0.0963 - val_acc: 0.9862\n",
      "Epoch 14/80\n",
      "33600/33600 [==============================] - 12s 354us/step - loss: 0.0161 - acc: 0.9971 - val_loss: 0.0723 - val_acc: 0.9893\n",
      "Epoch 15/80\n",
      "33600/33600 [==============================] - 12s 353us/step - loss: 0.0120 - acc: 0.9980 - val_loss: 0.0674 - val_acc: 0.9913\n",
      "Epoch 16/80\n",
      "33600/33600 [==============================] - 12s 355us/step - loss: 0.0068 - acc: 0.9986 - val_loss: 0.0769 - val_acc: 0.9896\n",
      "Epoch 17/80\n",
      "33600/33600 [==============================] - 12s 354us/step - loss: 0.0075 - acc: 0.9984 - val_loss: 0.0703 - val_acc: 0.9900\n",
      "Epoch 18/80\n",
      "33600/33600 [==============================] - 12s 354us/step - loss: 0.0062 - acc: 0.9987 - val_loss: 0.0814 - val_acc: 0.9889\n",
      "Epoch 19/80\n",
      "33600/33600 [==============================] - 12s 354us/step - loss: 0.0038 - acc: 0.9992 - val_loss: 0.0864 - val_acc: 0.9885\n",
      "Epoch 20/80\n",
      "33600/33600 [==============================] - 12s 354us/step - loss: 0.0303 - acc: 0.9948 - val_loss: 0.0736 - val_acc: 0.9876\n",
      "Epoch 21/80\n",
      "33600/33600 [==============================] - 12s 354us/step - loss: 0.0126 - acc: 0.9977 - val_loss: 0.0707 - val_acc: 0.9898\n",
      "Epoch 22/80\n",
      "33600/33600 [==============================] - 12s 355us/step - loss: 0.0098 - acc: 0.9980 - val_loss: 0.0670 - val_acc: 0.9898\n",
      "Epoch 23/80\n",
      "33600/33600 [==============================] - 12s 354us/step - loss: 0.0052 - acc: 0.9990 - val_loss: 0.0634 - val_acc: 0.9901\n",
      "Epoch 24/80\n",
      "33600/33600 [==============================] - 12s 354us/step - loss: 0.0016 - acc: 0.9996 - val_loss: 0.0761 - val_acc: 0.9910\n",
      "Epoch 25/80\n",
      "33600/33600 [==============================] - 12s 354us/step - loss: 0.0023 - acc: 0.9996 - val_loss: 0.0806 - val_acc: 0.9913\n",
      "Epoch 26/80\n",
      "33600/33600 [==============================] - 12s 355us/step - loss: 0.0044 - acc: 0.9992 - val_loss: 0.0900 - val_acc: 0.9883\n",
      "Epoch 27/80\n",
      "33600/33600 [==============================] - 12s 354us/step - loss: 0.0073 - acc: 0.9983 - val_loss: 0.0744 - val_acc: 0.9904\n",
      "Epoch 28/80\n",
      "33600/33600 [==============================] - 12s 353us/step - loss: 0.0058 - acc: 0.9993 - val_loss: 0.1059 - val_acc: 0.9883\n",
      "Epoch 29/80\n",
      "33600/33600 [==============================] - 12s 354us/step - loss: 0.0217 - acc: 0.9966 - val_loss: 0.1626 - val_acc: 0.9776\n",
      "Epoch 30/80\n",
      "33600/33600 [==============================] - 12s 354us/step - loss: 0.0289 - acc: 0.9949 - val_loss: 0.1014 - val_acc: 0.9885\n",
      "Epoch 31/80\n",
      "33600/33600 [==============================] - 12s 354us/step - loss: 0.0243 - acc: 0.9955 - val_loss: 0.0786 - val_acc: 0.9879\n",
      "Epoch 32/80\n",
      "33600/33600 [==============================] - 12s 354us/step - loss: 0.0213 - acc: 0.9963 - val_loss: 0.0877 - val_acc: 0.9846\n",
      "Epoch 33/80\n",
      "33600/33600 [==============================] - 12s 354us/step - loss: 0.0170 - acc: 0.9966 - val_loss: 0.0780 - val_acc: 0.9885\n",
      "Epoch 34/80\n",
      "33600/33600 [==============================] - 12s 354us/step - loss: 0.0031 - acc: 0.9993 - val_loss: 0.0857 - val_acc: 0.9901\n",
      "Epoch 35/80\n",
      "33600/33600 [==============================] - 12s 355us/step - loss: 0.0035 - acc: 0.9996 - val_loss: 0.0802 - val_acc: 0.9889\n",
      "Epoch 36/80\n",
      "33600/33600 [==============================] - 12s 354us/step - loss: 0.0049 - acc: 0.9994 - val_loss: 0.0981 - val_acc: 0.9879\n",
      "Epoch 37/80\n",
      "33600/33600 [==============================] - 12s 355us/step - loss: 0.0047 - acc: 0.9991 - val_loss: 0.0800 - val_acc: 0.9886\n",
      "Epoch 38/80\n",
      "33600/33600 [==============================] - 12s 354us/step - loss: 0.0102 - acc: 0.9983 - val_loss: 0.0883 - val_acc: 0.9883\n",
      "Epoch 39/80\n",
      "33600/33600 [==============================] - 12s 354us/step - loss: 0.0216 - acc: 0.9962 - val_loss: 0.1013 - val_acc: 0.9855\n",
      "Epoch 40/80\n",
      "33600/33600 [==============================] - 12s 353us/step - loss: 0.0378 - acc: 0.9937 - val_loss: 0.1151 - val_acc: 0.9799\n",
      "Epoch 41/80\n",
      "33600/33600 [==============================] - 12s 354us/step - loss: 0.0233 - acc: 0.9952 - val_loss: 0.0759 - val_acc: 0.9888\n",
      "Epoch 42/80\n",
      "33600/33600 [==============================] - 12s 354us/step - loss: 0.0055 - acc: 0.9987 - val_loss: 0.0742 - val_acc: 0.9889\n",
      "Epoch 43/80\n",
      "33600/33600 [==============================] - 12s 355us/step - loss: 0.0026 - acc: 0.9996 - val_loss: 0.0785 - val_acc: 0.9904\n",
      "Epoch 44/80\n",
      "33600/33600 [==============================] - 12s 354us/step - loss: 7.7709e-04 - acc: 0.9999 - val_loss: 0.0810 - val_acc: 0.9905\n",
      "Epoch 45/80\n",
      "33600/33600 [==============================] - 12s 355us/step - loss: 5.5439e-04 - acc: 0.9999 - val_loss: 0.0788 - val_acc: 0.9913\n",
      "Epoch 46/80\n",
      "33600/33600 [==============================] - 12s 354us/step - loss: 5.1883e-04 - acc: 0.9999 - val_loss: 0.0818 - val_acc: 0.9913\n",
      "Epoch 47/80\n",
      "33600/33600 [==============================] - 12s 354us/step - loss: 4.8708e-04 - acc: 1.0000 - val_loss: 0.0832 - val_acc: 0.9914\n",
      "Epoch 48/80\n",
      "33600/33600 [==============================] - 12s 354us/step - loss: 4.8420e-04 - acc: 1.0000 - val_loss: 0.0844 - val_acc: 0.9914\n",
      "Epoch 49/80\n",
      "33600/33600 [==============================] - 12s 354us/step - loss: 4.8239e-04 - acc: 1.0000 - val_loss: 0.0883 - val_acc: 0.9914\n",
      "Epoch 50/80\n",
      "33600/33600 [==============================] - 12s 354us/step - loss: 4.8114e-04 - acc: 1.0000 - val_loss: 0.0889 - val_acc: 0.9914\n",
      "Epoch 51/80\n",
      "33600/33600 [==============================] - 12s 353us/step - loss: 4.8063e-04 - acc: 1.0000 - val_loss: 0.0904 - val_acc: 0.9915\n",
      "Epoch 52/80\n",
      "33600/33600 [==============================] - 12s 354us/step - loss: 4.8060e-04 - acc: 1.0000 - val_loss: 0.0903 - val_acc: 0.9914\n",
      "Epoch 53/80\n",
      "33600/33600 [==============================] - 12s 354us/step - loss: 4.8034e-04 - acc: 1.0000 - val_loss: 0.0921 - val_acc: 0.9913\n",
      "Epoch 54/80\n",
      "33600/33600 [==============================] - 12s 354us/step - loss: 4.8023e-04 - acc: 1.0000 - val_loss: 0.0928 - val_acc: 0.9913\n",
      "Epoch 55/80\n",
      "33600/33600 [==============================] - 12s 354us/step - loss: 4.8016e-04 - acc: 1.0000 - val_loss: 0.0936 - val_acc: 0.9913\n",
      "Epoch 56/80\n",
      "33600/33600 [==============================] - 12s 354us/step - loss: 4.8009e-04 - acc: 1.0000 - val_loss: 0.0943 - val_acc: 0.9913\n",
      "Epoch 57/80\n",
      "33600/33600 [==============================] - 12s 354us/step - loss: 4.8004e-04 - acc: 1.0000 - val_loss: 0.0948 - val_acc: 0.9913\n",
      "Epoch 58/80\n",
      "33600/33600 [==============================] - 12s 354us/step - loss: 4.8000e-04 - acc: 1.0000 - val_loss: 0.0957 - val_acc: 0.9912\n"
     ]
    },
    {
     "name": "stdout",
     "output_type": "stream",
     "text": [
      "Epoch 59/80\n",
      "33600/33600 [==============================] - 12s 354us/step - loss: 4.7997e-04 - acc: 1.0000 - val_loss: 0.0963 - val_acc: 0.9912\n",
      "Epoch 60/80\n",
      "33600/33600 [==============================] - 12s 353us/step - loss: 4.7993e-04 - acc: 1.0000 - val_loss: 0.0972 - val_acc: 0.9913\n",
      "Epoch 61/80\n",
      "33600/33600 [==============================] - 12s 354us/step - loss: 4.7990e-04 - acc: 1.0000 - val_loss: 0.0981 - val_acc: 0.9914\n",
      "Epoch 62/80\n",
      "33600/33600 [==============================] - 12s 354us/step - loss: 4.7989e-04 - acc: 1.0000 - val_loss: 0.0986 - val_acc: 0.9914\n",
      "Epoch 63/80\n",
      "33600/33600 [==============================] - 12s 354us/step - loss: 4.7987e-04 - acc: 1.0000 - val_loss: 0.0996 - val_acc: 0.9914\n",
      "Epoch 64/80\n",
      "33600/33600 [==============================] - 12s 353us/step - loss: 4.7986e-04 - acc: 1.0000 - val_loss: 0.0999 - val_acc: 0.9913\n",
      "Epoch 65/80\n",
      "33600/33600 [==============================] - 12s 353us/step - loss: 4.7986e-04 - acc: 1.0000 - val_loss: 0.1006 - val_acc: 0.9913\n",
      "Epoch 66/80\n",
      "33600/33600 [==============================] - 12s 354us/step - loss: 4.7985e-04 - acc: 1.0000 - val_loss: 0.1009 - val_acc: 0.9913\n",
      "Epoch 67/80\n",
      "33600/33600 [==============================] - 12s 354us/step - loss: 4.7985e-04 - acc: 1.0000 - val_loss: 0.1011 - val_acc: 0.9913\n",
      "Epoch 68/80\n",
      "33600/33600 [==============================] - 12s 353us/step - loss: 4.7984e-04 - acc: 1.0000 - val_loss: 0.1018 - val_acc: 0.9913\n",
      "Epoch 69/80\n",
      "33600/33600 [==============================] - 12s 353us/step - loss: 4.7984e-04 - acc: 1.0000 - val_loss: 0.1021 - val_acc: 0.9913\n",
      "Epoch 70/80\n",
      "33600/33600 [==============================] - 12s 353us/step - loss: 4.7984e-04 - acc: 1.0000 - val_loss: 0.1026 - val_acc: 0.9913\n",
      "Epoch 71/80\n",
      "33600/33600 [==============================] - 12s 354us/step - loss: 4.7984e-04 - acc: 1.0000 - val_loss: 0.1030 - val_acc: 0.9913\n",
      "Epoch 72/80\n",
      "33600/33600 [==============================] - 12s 353us/step - loss: 4.7983e-04 - acc: 1.0000 - val_loss: 0.1034 - val_acc: 0.9913\n",
      "Epoch 73/80\n",
      "33600/33600 [==============================] - 12s 354us/step - loss: 4.7983e-04 - acc: 1.0000 - val_loss: 0.1038 - val_acc: 0.9913\n",
      "Epoch 74/80\n",
      "33600/33600 [==============================] - 12s 354us/step - loss: 4.7983e-04 - acc: 1.0000 - val_loss: 0.1038 - val_acc: 0.9913\n",
      "Epoch 75/80\n",
      "33600/33600 [==============================] - 12s 354us/step - loss: 4.7983e-04 - acc: 1.0000 - val_loss: 0.1043 - val_acc: 0.9913\n",
      "Epoch 76/80\n",
      "33600/33600 [==============================] - 12s 353us/step - loss: 4.7983e-04 - acc: 1.0000 - val_loss: 0.1044 - val_acc: 0.9913\n",
      "Epoch 77/80\n",
      "33600/33600 [==============================] - 12s 354us/step - loss: 4.7983e-04 - acc: 1.0000 - val_loss: 0.1050 - val_acc: 0.9913\n",
      "Epoch 78/80\n",
      "33600/33600 [==============================] - 12s 354us/step - loss: 4.7983e-04 - acc: 1.0000 - val_loss: 0.1056 - val_acc: 0.9913\n",
      "Epoch 79/80\n",
      "33600/33600 [==============================] - 12s 353us/step - loss: 4.7983e-04 - acc: 1.0000 - val_loss: 0.1055 - val_acc: 0.9913\n",
      "Epoch 80/80\n",
      "33600/33600 [==============================] - 12s 353us/step - loss: 4.7983e-04 - acc: 1.0000 - val_loss: 0.1060 - val_acc: 0.9913\n",
      "Test loss: 0.10596150504982513\n",
      "Test accuracy: 0.9913095238095239\n"
     ]
    }
   ],
   "source": [
    "model.compile(loss='categorical_crossentropy',\n",
    "              optimizer=\"adam\",#RMSprop(),\n",
    "              metrics=['accuracy'])\n",
    " \n",
    "history = model.fit(x_train, y_train,\n",
    "                    batch_size=128,\n",
    "                    epochs=80,\n",
    "                    verbose=1,\n",
    "                    validation_data=(x_test, y_test))\n",
    "score = model.evaluate(x_test, y_test, verbose=0)\n",
    "print('Test loss:', score[0])\n",
    "print('Test accuracy:', score[1])"
   ]
  },
  {
   "cell_type": "code",
   "execution_count": 30,
   "metadata": {},
   "outputs": [],
   "source": [
    "pred = model.predict(pred_test)\n",
    "pred = np.argmax(pred, axis=1)"
   ]
  },
  {
   "cell_type": "code",
   "execution_count": 33,
   "metadata": {},
   "outputs": [],
   "source": [
    "flush_predictons(pred, output_name='keras_resnet.csv')"
   ]
  },
  {
   "cell_type": "code",
   "execution_count": 34,
   "metadata": {},
   "outputs": [
    {
     "data": {
      "text/plain": [
       "array([2, 0, 9, ..., 3, 9, 2], dtype=int64)"
      ]
     },
     "execution_count": 34,
     "metadata": {},
     "output_type": "execute_result"
    }
   ],
   "source": [
    "pred"
   ]
  },
  {
   "cell_type": "code",
   "execution_count": 35,
   "metadata": {},
   "outputs": [],
   "source": [
    "model.save(\"keras_resnet.h5\")"
   ]
  },
  {
   "cell_type": "code",
   "execution_count": 34,
   "metadata": {},
   "outputs": [],
   "source": [
    "from keras.models import load_model\n",
    "\n",
    "model = load_model(\"keras_resnet.h5\")"
   ]
  },
  {
   "cell_type": "code",
   "execution_count": null,
   "metadata": {},
   "outputs": [],
   "source": []
  }
 ],
 "metadata": {
  "kernelspec": {
   "display_name": "Python 3",
   "language": "python",
   "name": "python3"
  },
  "language_info": {
   "codemirror_mode": {
    "name": "ipython",
    "version": 3
   },
   "file_extension": ".py",
   "mimetype": "text/x-python",
   "name": "python",
   "nbconvert_exporter": "python",
   "pygments_lexer": "ipython3",
   "version": "3.6.4"
  }
 },
 "nbformat": 4,
 "nbformat_minor": 2
}
