{
 "cells": [
  {
   "cell_type": "code",
   "execution_count": 24,
   "metadata": {
    "collapsed": true
   },
   "outputs": [],
   "source": [
    "import numpy as np;\n",
    "import pandas as pd;\n",
    "import operator;"
   ]
  },
  {
   "cell_type": "code",
   "execution_count": 25,
   "metadata": {
    "collapsed": false
   },
   "outputs": [],
   "source": [
    "def file2matrix(filename):\n",
    "    rows = 0\n",
    "    data = []\n",
    "    with open(filename) as f:\n",
    "        data = f.readlines()\n",
    "        rows = len(data)\n",
    "    return_matrix = np.zeros((rows,3))\n",
    "    class_vector = []\n",
    "    if rows > 0:\n",
    "        index = 0\n",
    "        for row in data:\n",
    "            row_split = row.split(\"\\t\")\n",
    "            return_matrix[index,:] = row_split[0:3]\n",
    "            class_vector.append(row_split[-1].strip())\n",
    "            index += 1\n",
    "    return return_matrix, class_vector\n",
    "#print file2matrix(\"datingTestSet.txt\")[0]\n",
    "\n",
    "# use pandas to load data\n",
    "def file2matrix_pandas(filename):\n",
    "    dt = pd.read_csv(\"datingTestSet.txt\",sep=\"\\t\", names=[\"frequent\", \"pencentage\", \"num\", \"class\"])\n",
    "    return_matrix = dt[[\"frequent\", \"pencentage\", \"num\"]].as_matrix()\n",
    "    class_vector = dt[\"class\"].tolist()\n",
    "    return return_matrix, class_vector\n",
    "    \n",
    "#print file2matrix_pandas(\"datingTestSet.txt\")[0]"
   ]
  },
  {
   "cell_type": "code",
   "execution_count": 26,
   "metadata": {
    "collapsed": false
   },
   "outputs": [
    {
     "name": "stdout",
     "output_type": "stream",
     "text": [
      "(4L, 2L)\n",
      "[[1 1]\n",
      " [1 1]\n",
      " [1 1]\n",
      " [1 1]]\n",
      "[[ 0.  -0.1]\n",
      " [ 0.   0. ]\n",
      " [ 1.   1. ]\n",
      " [ 1.   0.9]]\n",
      "[[ 0.    0.01]\n",
      " [ 0.    0.  ]\n",
      " [ 1.    1.  ]\n",
      " [ 1.    0.81]]\n",
      "[ 0.01  0.    2.    1.81]\n",
      "[ 0.1         0.          1.41421356  1.3453624 ]\n",
      "[1 0 3 2]\n",
      "{'A': 2, 'B': 1}\n",
      "[('A', 2), ('B', 1)]\n"
     ]
    },
    {
     "data": {
      "text/plain": [
       "array([[ 0. , -0.1],\n",
       "       [ 0. ,  0. ],\n",
       "       [ 1. ,  1. ],\n",
       "       [ 1. ,  0.9]])"
      ]
     },
     "execution_count": 26,
     "metadata": {},
     "output_type": "execute_result"
    }
   ],
   "source": [
    "def createDataSet():\n",
    "    group = np.array([[1.0,1.1],[1.0,1.0],[0,0],[0,0.1]])\n",
    "    labels = ['A','A','B','B']\n",
    "    return group, labels\n",
    "\n",
    "def classify0(inX, dataSet, labels, k):\n",
    "    dataSetSize = dataSet.shape[0]\n",
    "    print dataSet.shape\n",
    "    print np.tile(inX, (dataSetSize,1))\n",
    "    diffMat = np.tile(inX, (dataSetSize,1)) - dataSet\n",
    "    print diffMat\n",
    "    sqDiffMat = diffMat**2\n",
    "    print sqDiffMat\n",
    "    sqDistances = sqDiffMat.sum(axis=1)\n",
    "    print sqDistances\n",
    "    distances = sqDistances**0.5\n",
    "    print distances\n",
    "    sortedDistIndicies = distances.argsort()\n",
    "    print sortedDistIndicies\n",
    "    classCount={}          \n",
    "    for i in range(k):\n",
    "        voteIlabel = labels[sortedDistIndicies[i]]\n",
    "        classCount[voteIlabel] = classCount.get(voteIlabel,0) + 1\n",
    "    print classCount\n",
    "    sortedClassCount = sorted(classCount.iteritems(), key=operator.itemgetter(1), reverse=True)\n",
    "    print sortedClassCount\n",
    "    return diffMat\n",
    "\n",
    "group, labels = createDataSet()\n",
    "\n",
    "classify0([1,1], group, labels, 3)\n",
    "    "
   ]
  },
  {
   "cell_type": "code",
   "execution_count": null,
   "metadata": {
    "collapsed": true
   },
   "outputs": [],
   "source": []
  },
  {
   "cell_type": "code",
   "execution_count": null,
   "metadata": {
    "collapsed": false
   },
   "outputs": [],
   "source": [
    "z23 = np.zeros((2,3))"
   ]
  },
  {
   "cell_type": "code",
   "execution_count": null,
   "metadata": {
    "collapsed": false
   },
   "outputs": [],
   "source": [
    "z23.shape"
   ]
  },
  {
   "cell_type": "code",
   "execution_count": null,
   "metadata": {
    "collapsed": true
   },
   "outputs": [],
   "source": [
    "z23[0,:] = [1,2,3]"
   ]
  },
  {
   "cell_type": "code",
   "execution_count": null,
   "metadata": {
    "collapsed": false
   },
   "outputs": [],
   "source": [
    "z23"
   ]
  },
  {
   "cell_type": "code",
   "execution_count": null,
   "metadata": {
    "collapsed": false
   },
   "outputs": [],
   "source": [
    "z23[0, :]"
   ]
  }
 ],
 "metadata": {
  "anaconda-cloud": {},
  "kernelspec": {
   "display_name": "Python [default]",
   "language": "python",
   "name": "python2"
  },
  "language_info": {
   "codemirror_mode": {
    "name": "ipython",
    "version": 2
   },
   "file_extension": ".py",
   "mimetype": "text/x-python",
   "name": "python",
   "nbconvert_exporter": "python",
   "pygments_lexer": "ipython2",
   "version": "2.7.12"
  }
 },
 "nbformat": 4,
 "nbformat_minor": 1
}
