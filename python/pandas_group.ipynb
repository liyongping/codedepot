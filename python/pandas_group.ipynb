{
 "cells": [
  {
   "cell_type": "code",
   "execution_count": 27,
   "metadata": {
    "collapsed": true
   },
   "outputs": [],
   "source": [
    "import io\n",
    "import pandas as pd"
   ]
  },
  {
   "cell_type": "code",
   "execution_count": 28,
   "metadata": {
    "collapsed": true
   },
   "outputs": [],
   "source": [
    "data = u\"\"\"name|age|height|class|score\n",
    "lily|28|168|english|90\n",
    "lily|28|168|math|95\n",
    "lucy|28|120|english|99\n",
    "lucy|28|120|math|88\n",
    "sun|27|161|english|98\n",
    "sun|27|161|math|78\n",
    "vincent|32|175|english|60\n",
    "vincent|32|175|math|100\n",
    "\"\"\"\n",
    "d = pd.read_table(io.StringIO(data),sep='|')"
   ]
  },
  {
   "cell_type": "code",
   "execution_count": 29,
   "metadata": {
    "collapsed": false
   },
   "outputs": [
    {
     "data": {
      "text/html": [
       "<div>\n",
       "<table border=\"1\" class=\"dataframe\">\n",
       "  <thead>\n",
       "    <tr style=\"text-align: right;\">\n",
       "      <th></th>\n",
       "      <th>name</th>\n",
       "      <th>age</th>\n",
       "      <th>height</th>\n",
       "      <th>class</th>\n",
       "      <th>score</th>\n",
       "    </tr>\n",
       "  </thead>\n",
       "  <tbody>\n",
       "    <tr>\n",
       "      <th>0</th>\n",
       "      <td>lily</td>\n",
       "      <td>28</td>\n",
       "      <td>168</td>\n",
       "      <td>english</td>\n",
       "      <td>90</td>\n",
       "    </tr>\n",
       "    <tr>\n",
       "      <th>1</th>\n",
       "      <td>lily</td>\n",
       "      <td>28</td>\n",
       "      <td>168</td>\n",
       "      <td>math</td>\n",
       "      <td>95</td>\n",
       "    </tr>\n",
       "    <tr>\n",
       "      <th>2</th>\n",
       "      <td>lucy</td>\n",
       "      <td>28</td>\n",
       "      <td>120</td>\n",
       "      <td>english</td>\n",
       "      <td>99</td>\n",
       "    </tr>\n",
       "    <tr>\n",
       "      <th>3</th>\n",
       "      <td>lucy</td>\n",
       "      <td>28</td>\n",
       "      <td>120</td>\n",
       "      <td>math</td>\n",
       "      <td>88</td>\n",
       "    </tr>\n",
       "    <tr>\n",
       "      <th>4</th>\n",
       "      <td>sun</td>\n",
       "      <td>27</td>\n",
       "      <td>161</td>\n",
       "      <td>english</td>\n",
       "      <td>98</td>\n",
       "    </tr>\n",
       "    <tr>\n",
       "      <th>5</th>\n",
       "      <td>sun</td>\n",
       "      <td>27</td>\n",
       "      <td>161</td>\n",
       "      <td>math</td>\n",
       "      <td>78</td>\n",
       "    </tr>\n",
       "    <tr>\n",
       "      <th>6</th>\n",
       "      <td>vincent</td>\n",
       "      <td>32</td>\n",
       "      <td>175</td>\n",
       "      <td>english</td>\n",
       "      <td>60</td>\n",
       "    </tr>\n",
       "    <tr>\n",
       "      <th>7</th>\n",
       "      <td>vincent</td>\n",
       "      <td>32</td>\n",
       "      <td>175</td>\n",
       "      <td>math</td>\n",
       "      <td>100</td>\n",
       "    </tr>\n",
       "  </tbody>\n",
       "</table>\n",
       "</div>"
      ],
      "text/plain": [
       "      name  age  height    class  score\n",
       "0     lily   28     168  english     90\n",
       "1     lily   28     168     math     95\n",
       "2     lucy   28     120  english     99\n",
       "3     lucy   28     120     math     88\n",
       "4      sun   27     161  english     98\n",
       "5      sun   27     161     math     78\n",
       "6  vincent   32     175  english     60\n",
       "7  vincent   32     175     math    100"
      ]
     },
     "execution_count": 29,
     "metadata": {},
     "output_type": "execute_result"
    }
   ],
   "source": [
    "d"
   ]
  },
  {
   "cell_type": "code",
   "execution_count": 30,
   "metadata": {
    "collapsed": false
   },
   "outputs": [],
   "source": [
    "ng = d.groupby([\"name\",\"age\",\"height\"])"
   ]
  },
  {
   "cell_type": "code",
   "execution_count": 31,
   "metadata": {
    "collapsed": false
   },
   "outputs": [
    {
     "data": {
      "text/html": [
       "<div>\n",
       "<table border=\"1\" class=\"dataframe\">\n",
       "  <thead>\n",
       "    <tr style=\"text-align: right;\">\n",
       "      <th></th>\n",
       "      <th></th>\n",
       "      <th></th>\n",
       "      <th>class</th>\n",
       "      <th>score</th>\n",
       "    </tr>\n",
       "    <tr>\n",
       "      <th>name</th>\n",
       "      <th>age</th>\n",
       "      <th>height</th>\n",
       "      <th></th>\n",
       "      <th></th>\n",
       "    </tr>\n",
       "  </thead>\n",
       "  <tbody>\n",
       "    <tr>\n",
       "      <th>lily</th>\n",
       "      <th>28</th>\n",
       "      <th>168</th>\n",
       "      <td>math</td>\n",
       "      <td>95</td>\n",
       "    </tr>\n",
       "    <tr>\n",
       "      <th>lucy</th>\n",
       "      <th>28</th>\n",
       "      <th>120</th>\n",
       "      <td>math</td>\n",
       "      <td>99</td>\n",
       "    </tr>\n",
       "    <tr>\n",
       "      <th>sun</th>\n",
       "      <th>27</th>\n",
       "      <th>161</th>\n",
       "      <td>math</td>\n",
       "      <td>98</td>\n",
       "    </tr>\n",
       "    <tr>\n",
       "      <th>vincent</th>\n",
       "      <th>32</th>\n",
       "      <th>175</th>\n",
       "      <td>math</td>\n",
       "      <td>100</td>\n",
       "    </tr>\n",
       "  </tbody>\n",
       "</table>\n",
       "</div>"
      ],
      "text/plain": [
       "                   class  score\n",
       "name    age height             \n",
       "lily    28  168     math     95\n",
       "lucy    28  120     math     99\n",
       "sun     27  161     math     98\n",
       "vincent 32  175     math    100"
      ]
     },
     "execution_count": 31,
     "metadata": {},
     "output_type": "execute_result"
    }
   ],
   "source": [
    "ng.describe()\n",
    "ng.max()"
   ]
  },
  {
   "cell_type": "code",
   "execution_count": 32,
   "metadata": {
    "collapsed": false
   },
   "outputs": [
    {
     "data": {
      "text/html": [
       "<div>\n",
       "<table border=\"1\" class=\"dataframe\">\n",
       "  <thead>\n",
       "    <tr style=\"text-align: right;\">\n",
       "      <th></th>\n",
       "      <th>age</th>\n",
       "      <th>height</th>\n",
       "      <th>class</th>\n",
       "      <th>score</th>\n",
       "    </tr>\n",
       "    <tr>\n",
       "      <th>name</th>\n",
       "      <th></th>\n",
       "      <th></th>\n",
       "      <th></th>\n",
       "      <th></th>\n",
       "    </tr>\n",
       "  </thead>\n",
       "  <tbody>\n",
       "    <tr>\n",
       "      <th>lily</th>\n",
       "      <td>28</td>\n",
       "      <td>168</td>\n",
       "      <td>math</td>\n",
       "      <td>95</td>\n",
       "    </tr>\n",
       "    <tr>\n",
       "      <th>lucy</th>\n",
       "      <td>28</td>\n",
       "      <td>120</td>\n",
       "      <td>math</td>\n",
       "      <td>99</td>\n",
       "    </tr>\n",
       "    <tr>\n",
       "      <th>sun</th>\n",
       "      <td>27</td>\n",
       "      <td>161</td>\n",
       "      <td>math</td>\n",
       "      <td>98</td>\n",
       "    </tr>\n",
       "    <tr>\n",
       "      <th>vincent</th>\n",
       "      <td>32</td>\n",
       "      <td>175</td>\n",
       "      <td>math</td>\n",
       "      <td>100</td>\n",
       "    </tr>\n",
       "  </tbody>\n",
       "</table>\n",
       "</div>"
      ],
      "text/plain": [
       "         age  height class  score\n",
       "name                             \n",
       "lily      28     168  math     95\n",
       "lucy      28     120  math     99\n",
       "sun       27     161  math     98\n",
       "vincent   32     175  math    100"
      ]
     },
     "execution_count": 32,
     "metadata": {},
     "output_type": "execute_result"
    }
   ],
   "source": [
    "d.groupby(\"name\").max()"
   ]
  },
  {
   "cell_type": "code",
   "execution_count": 33,
   "metadata": {
    "collapsed": false
   },
   "outputs": [
    {
     "data": {
      "text/html": [
       "<div>\n",
       "<table border=\"1\" class=\"dataframe\">\n",
       "  <thead>\n",
       "    <tr style=\"text-align: right;\">\n",
       "      <th></th>\n",
       "      <th>name</th>\n",
       "      <th>age</th>\n",
       "      <th>height</th>\n",
       "      <th>class</th>\n",
       "      <th>score</th>\n",
       "    </tr>\n",
       "  </thead>\n",
       "  <tbody>\n",
       "    <tr>\n",
       "      <th>0</th>\n",
       "      <td>lily</td>\n",
       "      <td>28</td>\n",
       "      <td>168</td>\n",
       "      <td>english</td>\n",
       "      <td>90</td>\n",
       "    </tr>\n",
       "    <tr>\n",
       "      <th>1</th>\n",
       "      <td>lily</td>\n",
       "      <td>28</td>\n",
       "      <td>168</td>\n",
       "      <td>math</td>\n",
       "      <td>95</td>\n",
       "    </tr>\n",
       "    <tr>\n",
       "      <th>2</th>\n",
       "      <td>lucy</td>\n",
       "      <td>28</td>\n",
       "      <td>120</td>\n",
       "      <td>english</td>\n",
       "      <td>99</td>\n",
       "    </tr>\n",
       "    <tr>\n",
       "      <th>3</th>\n",
       "      <td>lucy</td>\n",
       "      <td>28</td>\n",
       "      <td>120</td>\n",
       "      <td>math</td>\n",
       "      <td>88</td>\n",
       "    </tr>\n",
       "    <tr>\n",
       "      <th>4</th>\n",
       "      <td>sun</td>\n",
       "      <td>27</td>\n",
       "      <td>161</td>\n",
       "      <td>english</td>\n",
       "      <td>98</td>\n",
       "    </tr>\n",
       "    <tr>\n",
       "      <th>5</th>\n",
       "      <td>sun</td>\n",
       "      <td>27</td>\n",
       "      <td>161</td>\n",
       "      <td>math</td>\n",
       "      <td>78</td>\n",
       "    </tr>\n",
       "    <tr>\n",
       "      <th>6</th>\n",
       "      <td>vincent</td>\n",
       "      <td>32</td>\n",
       "      <td>175</td>\n",
       "      <td>english</td>\n",
       "      <td>60</td>\n",
       "    </tr>\n",
       "    <tr>\n",
       "      <th>7</th>\n",
       "      <td>vincent</td>\n",
       "      <td>32</td>\n",
       "      <td>175</td>\n",
       "      <td>math</td>\n",
       "      <td>100</td>\n",
       "    </tr>\n",
       "  </tbody>\n",
       "</table>\n",
       "</div>"
      ],
      "text/plain": [
       "      name  age  height    class  score\n",
       "0     lily   28     168  english     90\n",
       "1     lily   28     168     math     95\n",
       "2     lucy   28     120  english     99\n",
       "3     lucy   28     120     math     88\n",
       "4      sun   27     161  english     98\n",
       "5      sun   27     161     math     78\n",
       "6  vincent   32     175  english     60\n",
       "7  vincent   32     175     math    100"
      ]
     },
     "execution_count": 33,
     "metadata": {},
     "output_type": "execute_result"
    }
   ],
   "source": [
    "d"
   ]
  },
  {
   "cell_type": "code",
   "execution_count": null,
   "metadata": {
    "collapsed": false
   },
   "outputs": [],
   "source": []
  }
 ],
 "metadata": {
  "anaconda-cloud": {},
  "kernelspec": {
   "display_name": "Python 2",
   "language": "python",
   "name": "python2"
  },
  "language_info": {
   "codemirror_mode": {
    "name": "ipython",
    "version": 2
   },
   "file_extension": ".py",
   "mimetype": "text/x-python",
   "name": "python",
   "nbconvert_exporter": "python",
   "pygments_lexer": "ipython2",
   "version": "2.7.12"
  }
 },
 "nbformat": 4,
 "nbformat_minor": 1
}
