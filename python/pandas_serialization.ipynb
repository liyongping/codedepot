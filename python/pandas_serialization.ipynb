{
 "cells": [
  {
   "cell_type": "code",
   "execution_count": 1,
   "metadata": {
    "collapsed": true
   },
   "outputs": [],
   "source": [
    "import io\n",
    "import pandas as pd"
   ]
  },
  {
   "cell_type": "code",
   "execution_count": 2,
   "metadata": {
    "collapsed": true
   },
   "outputs": [],
   "source": [
    "data = u\"\"\"name|age|height|class|score\n",
    "lily|28|168|english|90\n",
    "lily|28|168|math|95\n",
    "lucy|28|120|english|99\n",
    "lucy|28|120|math|88\n",
    "sun|27|161|english|98\n",
    "sun|27|161|math|78\n",
    "vincent|32|175|english|60\n",
    "vincent|32|175|math|100\n",
    "\"\"\"\n",
    "d = pd.read_table(io.StringIO(data),sep='|')"
   ]
  },
  {
   "cell_type": "code",
   "execution_count": 3,
   "metadata": {
    "collapsed": false,
    "scrolled": true
   },
   "outputs": [
    {
     "data": {
      "text/html": [
       "<div>\n",
       "<table border=\"1\" class=\"dataframe\">\n",
       "  <thead>\n",
       "    <tr style=\"text-align: right;\">\n",
       "      <th></th>\n",
       "      <th>name</th>\n",
       "      <th>age</th>\n",
       "      <th>height</th>\n",
       "      <th>class</th>\n",
       "      <th>score</th>\n",
       "    </tr>\n",
       "  </thead>\n",
       "  <tbody>\n",
       "    <tr>\n",
       "      <th>0</th>\n",
       "      <td>lily</td>\n",
       "      <td>28</td>\n",
       "      <td>168</td>\n",
       "      <td>english</td>\n",
       "      <td>90</td>\n",
       "    </tr>\n",
       "    <tr>\n",
       "      <th>1</th>\n",
       "      <td>lily</td>\n",
       "      <td>28</td>\n",
       "      <td>168</td>\n",
       "      <td>math</td>\n",
       "      <td>95</td>\n",
       "    </tr>\n",
       "    <tr>\n",
       "      <th>2</th>\n",
       "      <td>lucy</td>\n",
       "      <td>28</td>\n",
       "      <td>120</td>\n",
       "      <td>english</td>\n",
       "      <td>99</td>\n",
       "    </tr>\n",
       "    <tr>\n",
       "      <th>3</th>\n",
       "      <td>lucy</td>\n",
       "      <td>28</td>\n",
       "      <td>120</td>\n",
       "      <td>math</td>\n",
       "      <td>88</td>\n",
       "    </tr>\n",
       "    <tr>\n",
       "      <th>4</th>\n",
       "      <td>sun</td>\n",
       "      <td>27</td>\n",
       "      <td>161</td>\n",
       "      <td>english</td>\n",
       "      <td>98</td>\n",
       "    </tr>\n",
       "    <tr>\n",
       "      <th>5</th>\n",
       "      <td>sun</td>\n",
       "      <td>27</td>\n",
       "      <td>161</td>\n",
       "      <td>math</td>\n",
       "      <td>78</td>\n",
       "    </tr>\n",
       "    <tr>\n",
       "      <th>6</th>\n",
       "      <td>vincent</td>\n",
       "      <td>32</td>\n",
       "      <td>175</td>\n",
       "      <td>english</td>\n",
       "      <td>60</td>\n",
       "    </tr>\n",
       "    <tr>\n",
       "      <th>7</th>\n",
       "      <td>vincent</td>\n",
       "      <td>32</td>\n",
       "      <td>175</td>\n",
       "      <td>math</td>\n",
       "      <td>100</td>\n",
       "    </tr>\n",
       "  </tbody>\n",
       "</table>\n",
       "</div>"
      ],
      "text/plain": [
       "      name  age  height    class  score\n",
       "0     lily   28     168  english     90\n",
       "1     lily   28     168     math     95\n",
       "2     lucy   28     120  english     99\n",
       "3     lucy   28     120     math     88\n",
       "4      sun   27     161  english     98\n",
       "5      sun   27     161     math     78\n",
       "6  vincent   32     175  english     60\n",
       "7  vincent   32     175     math    100"
      ]
     },
     "execution_count": 3,
     "metadata": {},
     "output_type": "execute_result"
    }
   ],
   "source": [
    "d"
   ]
  },
  {
   "cell_type": "code",
   "execution_count": 4,
   "metadata": {
    "collapsed": false
   },
   "outputs": [
    {
     "data": {
      "text/plain": [
       "'{\"name\":{\"0\":\"lily\",\"1\":\"lily\",\"2\":\"lucy\",\"3\":\"lucy\",\"4\":\"sun\",\"5\":\"sun\",\"6\":\"vincent\",\"7\":\"vincent\"},\"age\":{\"0\":28,\"1\":28,\"2\":28,\"3\":28,\"4\":27,\"5\":27,\"6\":32,\"7\":32},\"height\":{\"0\":168,\"1\":168,\"2\":120,\"3\":120,\"4\":161,\"5\":161,\"6\":175,\"7\":175},\"class\":{\"0\":\"english\",\"1\":\"math\",\"2\":\"english\",\"3\":\"math\",\"4\":\"english\",\"5\":\"math\",\"6\":\"english\",\"7\":\"math\"},\"score\":{\"0\":90,\"1\":95,\"2\":99,\"3\":88,\"4\":98,\"5\":78,\"6\":60,\"7\":100}}'"
      ]
     },
     "execution_count": 4,
     "metadata": {},
     "output_type": "execute_result"
    }
   ],
   "source": [
    "d.to_json()"
   ]
  },
  {
   "cell_type": "code",
   "execution_count": 5,
   "metadata": {
    "collapsed": true
   },
   "outputs": [],
   "source": [
    "d.to_html(\"d.html\")"
   ]
  },
  {
   "cell_type": "markdown",
   "metadata": {},
   "source": [
    "# Numpy"
   ]
  },
  {
   "cell_type": "code",
   "execution_count": 6,
   "metadata": {
    "collapsed": false
   },
   "outputs": [
    {
     "data": {
      "text/plain": [
       "array([['lily', 28L, 168L, 'english', 90L],\n",
       "       ['lily', 28L, 168L, 'math', 95L],\n",
       "       ['lucy', 28L, 120L, 'english', 99L],\n",
       "       ['lucy', 28L, 120L, 'math', 88L],\n",
       "       ['sun', 27L, 161L, 'english', 98L],\n",
       "       ['sun', 27L, 161L, 'math', 78L],\n",
       "       ['vincent', 32L, 175L, 'english', 60L],\n",
       "       ['vincent', 32L, 175L, 'math', 100L]], dtype=object)"
      ]
     },
     "execution_count": 6,
     "metadata": {},
     "output_type": "execute_result"
    }
   ],
   "source": [
    "d.as_matrix()"
   ]
  },
  {
   "cell_type": "code",
   "execution_count": 7,
   "metadata": {
    "collapsed": false
   },
   "outputs": [
    {
     "data": {
      "text/html": [
       "<div>\n",
       "<table border=\"1\" class=\"dataframe\">\n",
       "  <thead>\n",
       "    <tr style=\"text-align: right;\">\n",
       "      <th></th>\n",
       "      <th>name</th>\n",
       "      <th>age</th>\n",
       "      <th>height</th>\n",
       "      <th>class</th>\n",
       "      <th>score</th>\n",
       "    </tr>\n",
       "  </thead>\n",
       "  <tbody>\n",
       "    <tr>\n",
       "      <th>0</th>\n",
       "      <td>lily</td>\n",
       "      <td>28</td>\n",
       "      <td>168</td>\n",
       "      <td>english</td>\n",
       "      <td>90</td>\n",
       "    </tr>\n",
       "    <tr>\n",
       "      <th>1</th>\n",
       "      <td>lily</td>\n",
       "      <td>28</td>\n",
       "      <td>168</td>\n",
       "      <td>math</td>\n",
       "      <td>95</td>\n",
       "    </tr>\n",
       "    <tr>\n",
       "      <th>2</th>\n",
       "      <td>lucy</td>\n",
       "      <td>28</td>\n",
       "      <td>120</td>\n",
       "      <td>english</td>\n",
       "      <td>99</td>\n",
       "    </tr>\n",
       "    <tr>\n",
       "      <th>3</th>\n",
       "      <td>lucy</td>\n",
       "      <td>28</td>\n",
       "      <td>120</td>\n",
       "      <td>math</td>\n",
       "      <td>88</td>\n",
       "    </tr>\n",
       "    <tr>\n",
       "      <th>4</th>\n",
       "      <td>sun</td>\n",
       "      <td>27</td>\n",
       "      <td>161</td>\n",
       "      <td>english</td>\n",
       "      <td>98</td>\n",
       "    </tr>\n",
       "    <tr>\n",
       "      <th>5</th>\n",
       "      <td>sun</td>\n",
       "      <td>27</td>\n",
       "      <td>161</td>\n",
       "      <td>math</td>\n",
       "      <td>78</td>\n",
       "    </tr>\n",
       "    <tr>\n",
       "      <th>6</th>\n",
       "      <td>vincent</td>\n",
       "      <td>32</td>\n",
       "      <td>175</td>\n",
       "      <td>english</td>\n",
       "      <td>60</td>\n",
       "    </tr>\n",
       "    <tr>\n",
       "      <th>7</th>\n",
       "      <td>vincent</td>\n",
       "      <td>32</td>\n",
       "      <td>175</td>\n",
       "      <td>math</td>\n",
       "      <td>100</td>\n",
       "    </tr>\n",
       "  </tbody>\n",
       "</table>\n",
       "</div>"
      ],
      "text/plain": [
       "      name age height    class score\n",
       "0     lily  28    168  english    90\n",
       "1     lily  28    168     math    95\n",
       "2     lucy  28    120  english    99\n",
       "3     lucy  28    120     math    88\n",
       "4      sun  27    161  english    98\n",
       "5      sun  27    161     math    78\n",
       "6  vincent  32    175  english    60\n",
       "7  vincent  32    175     math   100"
      ]
     },
     "execution_count": 7,
     "metadata": {},
     "output_type": "execute_result"
    }
   ],
   "source": [
    "pd.DataFrame(d.as_matrix(), columns=[\"name\",\"age\",\"height\",\"class\",\"score\"])"
   ]
  },
  {
   "cell_type": "markdown",
   "metadata": {},
   "source": [
    "# excel"
   ]
  },
  {
   "cell_type": "code",
   "execution_count": 9,
   "metadata": {
    "collapsed": false
   },
   "outputs": [],
   "source": [
    "d.to_excel(\"d.xls\")"
   ]
  },
  {
   "cell_type": "code",
   "execution_count": 10,
   "metadata": {
    "collapsed": false
   },
   "outputs": [
    {
     "data": {
      "text/html": [
       "<div>\n",
       "<table border=\"1\" class=\"dataframe\">\n",
       "  <thead>\n",
       "    <tr style=\"text-align: right;\">\n",
       "      <th></th>\n",
       "      <th>name</th>\n",
       "      <th>age</th>\n",
       "      <th>height</th>\n",
       "      <th>class</th>\n",
       "      <th>score</th>\n",
       "    </tr>\n",
       "  </thead>\n",
       "  <tbody>\n",
       "    <tr>\n",
       "      <th>0</th>\n",
       "      <td>lily</td>\n",
       "      <td>28</td>\n",
       "      <td>168</td>\n",
       "      <td>english</td>\n",
       "      <td>90</td>\n",
       "    </tr>\n",
       "    <tr>\n",
       "      <th>1</th>\n",
       "      <td>lily</td>\n",
       "      <td>28</td>\n",
       "      <td>168</td>\n",
       "      <td>math</td>\n",
       "      <td>95</td>\n",
       "    </tr>\n",
       "    <tr>\n",
       "      <th>2</th>\n",
       "      <td>lucy</td>\n",
       "      <td>28</td>\n",
       "      <td>120</td>\n",
       "      <td>english</td>\n",
       "      <td>99</td>\n",
       "    </tr>\n",
       "    <tr>\n",
       "      <th>3</th>\n",
       "      <td>lucy</td>\n",
       "      <td>28</td>\n",
       "      <td>120</td>\n",
       "      <td>math</td>\n",
       "      <td>88</td>\n",
       "    </tr>\n",
       "    <tr>\n",
       "      <th>4</th>\n",
       "      <td>sun</td>\n",
       "      <td>27</td>\n",
       "      <td>161</td>\n",
       "      <td>english</td>\n",
       "      <td>98</td>\n",
       "    </tr>\n",
       "    <tr>\n",
       "      <th>5</th>\n",
       "      <td>sun</td>\n",
       "      <td>27</td>\n",
       "      <td>161</td>\n",
       "      <td>math</td>\n",
       "      <td>78</td>\n",
       "    </tr>\n",
       "    <tr>\n",
       "      <th>6</th>\n",
       "      <td>vincent</td>\n",
       "      <td>32</td>\n",
       "      <td>175</td>\n",
       "      <td>english</td>\n",
       "      <td>60</td>\n",
       "    </tr>\n",
       "    <tr>\n",
       "      <th>7</th>\n",
       "      <td>vincent</td>\n",
       "      <td>32</td>\n",
       "      <td>175</td>\n",
       "      <td>math</td>\n",
       "      <td>100</td>\n",
       "    </tr>\n",
       "  </tbody>\n",
       "</table>\n",
       "</div>"
      ],
      "text/plain": [
       "      name  age  height    class  score\n",
       "0     lily   28     168  english     90\n",
       "1     lily   28     168     math     95\n",
       "2     lucy   28     120  english     99\n",
       "3     lucy   28     120     math     88\n",
       "4      sun   27     161  english     98\n",
       "5      sun   27     161     math     78\n",
       "6  vincent   32     175  english     60\n",
       "7  vincent   32     175     math    100"
      ]
     },
     "execution_count": 10,
     "metadata": {},
     "output_type": "execute_result"
    }
   ],
   "source": [
    "pd.read_excel(\"d.xls\")"
   ]
  }
 ],
 "metadata": {
  "anaconda-cloud": {},
  "kernelspec": {
   "display_name": "Python [default]",
   "language": "python",
   "name": "python2"
  },
  "language_info": {
   "codemirror_mode": {
    "name": "ipython",
    "version": 2
   },
   "file_extension": ".py",
   "mimetype": "text/x-python",
   "name": "python",
   "nbconvert_exporter": "python",
   "pygments_lexer": "ipython2",
   "version": "2.7.12"
  }
 },
 "nbformat": 4,
 "nbformat_minor": 1
}
