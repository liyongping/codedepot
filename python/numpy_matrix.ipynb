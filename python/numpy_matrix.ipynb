{
 "cells": [
  {
   "cell_type": "code",
   "execution_count": 2,
   "metadata": {
    "collapsed": true
   },
   "outputs": [],
   "source": [
    "from numpy import *"
   ]
  },
  {
   "cell_type": "code",
   "execution_count": 3,
   "metadata": {
    "collapsed": false
   },
   "outputs": [
    {
     "data": {
      "text/plain": [
       "array([[ 0.45962725,  0.14903692,  0.6384603 ,  0.92816013],\n",
       "       [ 0.62017859,  0.80117814,  0.26383282,  0.05849769],\n",
       "       [ 0.58547977,  0.83236329,  0.8413785 ,  0.85245568],\n",
       "       [ 0.02854683,  0.46616083,  0.0487664 ,  0.63453301]])"
      ]
     },
     "execution_count": 3,
     "metadata": {},
     "output_type": "execute_result"
    }
   ],
   "source": [
    "random.rand(4,4)"
   ]
  },
  {
   "cell_type": "code",
   "execution_count": 4,
   "metadata": {
    "collapsed": true
   },
   "outputs": [],
   "source": [
    "randMat = mat(random.rand(4,4))"
   ]
  },
  {
   "cell_type": "code",
   "execution_count": 5,
   "metadata": {
    "collapsed": false
   },
   "outputs": [
    {
     "data": {
      "text/plain": [
       "matrix([[ 0.9645229 ,  0.44549009,  0.38871534,  0.40317471],\n",
       "        [ 0.66739534,  0.85777354,  0.20692736,  0.41123127],\n",
       "        [ 0.09003562,  0.68105207,  0.19886981,  0.09681631],\n",
       "        [ 0.21703848,  0.93413131,  0.11371432,  0.21332815]])"
      ]
     },
     "execution_count": 5,
     "metadata": {},
     "output_type": "execute_result"
    }
   ],
   "source": [
    "randMat"
   ]
  },
  {
   "cell_type": "code",
   "execution_count": 6,
   "metadata": {
    "collapsed": false
   },
   "outputs": [
    {
     "data": {
      "text/plain": [
       "matrix([[  7.88076015, -13.88335519, -10.45875715,  16.61536464],\n",
       "        [  2.12352035,  -4.82613614,  -2.90866209,   6.6100717 ],\n",
       "        [ -3.25452123,   7.62805557,  11.26775493, -13.66747365],\n",
       "        [-15.58157925,  31.19160886,  17.37098516, -33.87579731]])"
      ]
     },
     "execution_count": 6,
     "metadata": {},
     "output_type": "execute_result"
    }
   ],
   "source": [
    "randMat.I"
   ]
  },
  {
   "cell_type": "code",
   "execution_count": 10,
   "metadata": {
    "collapsed": false
   },
   "outputs": [
    {
     "data": {
      "text/plain": [
       "matrix([[  1.00000000e+00,   0.00000000e+00,   2.66453526e-15,\n",
       "           0.00000000e+00],\n",
       "        [ -8.88178420e-16,   1.00000000e+00,   0.00000000e+00,\n",
       "           1.77635684e-15],\n",
       "        [ -2.22044605e-16,   4.44089210e-16,   1.00000000e+00,\n",
       "           4.44089210e-16],\n",
       "        [ -4.44089210e-16,   8.88178420e-16,   1.33226763e-15,\n",
       "           1.00000000e+00]])"
      ]
     },
     "execution_count": 10,
     "metadata": {},
     "output_type": "execute_result"
    }
   ],
   "source": [
    "randMat*randMat.I"
   ]
  },
  {
   "cell_type": "code",
   "execution_count": 13,
   "metadata": {
    "collapsed": false
   },
   "outputs": [
    {
     "data": {
      "text/plain": [
       "array([[ 1.,  0.,  0.,  0.],\n",
       "       [ 0.,  1.,  0.,  0.],\n",
       "       [ 0.,  0.,  1.,  0.],\n",
       "       [ 0.,  0.,  0.,  1.]])"
      ]
     },
     "execution_count": 13,
     "metadata": {},
     "output_type": "execute_result"
    }
   ],
   "source": [
    "eye(4,4) #单位矩阵"
   ]
  },
  {
   "cell_type": "code",
   "execution_count": null,
   "metadata": {
    "collapsed": true
   },
   "outputs": [],
   "source": []
  }
 ],
 "metadata": {
  "anaconda-cloud": {},
  "kernelspec": {
   "display_name": "Python [default]",
   "language": "python",
   "name": "python2"
  },
  "language_info": {
   "codemirror_mode": {
    "name": "ipython",
    "version": 2
   },
   "file_extension": ".py",
   "mimetype": "text/x-python",
   "name": "python",
   "nbconvert_exporter": "python",
   "pygments_lexer": "ipython2",
   "version": "2.7.12"
  }
 },
 "nbformat": 4,
 "nbformat_minor": 1
}
