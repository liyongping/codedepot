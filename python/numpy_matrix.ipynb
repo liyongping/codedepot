{
 "cells": [
  {
   "cell_type": "code",
   "execution_count": 2,
   "metadata": {
    "collapsed": true
   },
   "outputs": [],
   "source": [
    "import numpy as np"
   ]
  },
  {
   "cell_type": "code",
   "execution_count": 3,
   "metadata": {
    "collapsed": false
   },
   "outputs": [
    {
     "data": {
      "text/plain": [
       "array([[ 0.11331509,  0.61808948,  0.69563363,  0.42199804],\n",
       "       [ 0.8665531 ,  0.73623926,  0.5410329 ,  0.94972548],\n",
       "       [ 0.5400627 ,  0.37349349,  0.21055392,  0.89928384],\n",
       "       [ 0.82457419,  0.96202215,  0.60761409,  0.69646231]])"
      ]
     },
     "execution_count": 3,
     "metadata": {},
     "output_type": "execute_result"
    }
   ],
   "source": [
    "np.random.rand(4,4)"
   ]
  },
  {
   "cell_type": "code",
   "execution_count": 6,
   "metadata": {
    "collapsed": false
   },
   "outputs": [],
   "source": [
    "randMat = np.mat(np.random.rand(4,4))"
   ]
  },
  {
   "cell_type": "code",
   "execution_count": 7,
   "metadata": {
    "collapsed": false
   },
   "outputs": [
    {
     "data": {
      "text/plain": [
       "matrix([[ 0.29763784,  0.60881461,  0.69852786,  0.85492573],\n",
       "        [ 0.03778093,  0.1495421 ,  0.79050213,  0.84662473],\n",
       "        [ 0.76099596,  0.28011335,  0.27151656,  0.97640988],\n",
       "        [ 0.82448354,  0.14695251,  0.99761654,  0.29189095]])"
      ]
     },
     "execution_count": 7,
     "metadata": {},
     "output_type": "execute_result"
    }
   ],
   "source": [
    "randMat"
   ]
  },
  {
   "cell_type": "code",
   "execution_count": 8,
   "metadata": {
    "collapsed": false,
    "scrolled": true
   },
   "outputs": [
    {
     "data": {
      "text/plain": [
       "matrix([[-0.31764582, -0.80063665,  0.77962815,  0.64464396],\n",
       "        [ 2.37377933, -1.61408049, -0.61435055, -0.21592523],\n",
       "        [ 0.04318151,  0.63288304, -0.79168289,  0.6861315 ],\n",
       "        [-0.44543239,  0.91106055,  0.81292595, -0.63127585]])"
      ]
     },
     "execution_count": 8,
     "metadata": {},
     "output_type": "execute_result"
    }
   ],
   "source": [
    "randMat.I"
   ]
  },
  {
   "cell_type": "code",
   "execution_count": 9,
   "metadata": {
    "collapsed": false
   },
   "outputs": [
    {
     "data": {
      "text/plain": [
       "matrix([[  1.00000000e+00,  -1.08991127e-16,  -7.23399462e-17,\n",
       "          -3.60915258e-17],\n",
       "        [  9.99831528e-17,   1.00000000e+00,  -4.54236673e-17,\n",
       "          -3.75590409e-17],\n",
       "        [ -3.16074831e-17,   1.15422118e-16,   1.00000000e+00,\n",
       "          -2.67420654e-16],\n",
       "        [ -6.67569615e-17,   3.38093187e-17,   3.24770256e-17,\n",
       "           1.00000000e+00]])"
      ]
     },
     "execution_count": 9,
     "metadata": {},
     "output_type": "execute_result"
    }
   ],
   "source": [
    "randMat*randMat.I"
   ]
  },
  {
   "cell_type": "code",
   "execution_count": 10,
   "metadata": {
    "collapsed": false
   },
   "outputs": [
    {
     "data": {
      "text/plain": [
       "array([[ 1.,  0.,  0.,  0.],\n",
       "       [ 0.,  1.,  0.,  0.],\n",
       "       [ 0.,  0.,  1.,  0.],\n",
       "       [ 0.,  0.,  0.,  1.]])"
      ]
     },
     "execution_count": 10,
     "metadata": {},
     "output_type": "execute_result"
    }
   ],
   "source": [
    "np.eye(4,4) #单位矩阵"
   ]
  },
  {
   "cell_type": "markdown",
   "metadata": {
    "collapsed": true
   },
   "source": [
    "# 矩阵乘法"
   ]
  },
  {
   "cell_type": "code",
   "execution_count": 24,
   "metadata": {
    "collapsed": true
   },
   "outputs": [],
   "source": [
    "from fractions import Fraction\n",
    "M = np.matrix([[0,0.5,1,Fraction(1,3)],\n",
    "               [0.5,0,0,Fraction(1,3)],\n",
    "               [0.5,0,0,Fraction(1,3)],\n",
    "               [0,0.5,0,0]])"
   ]
  },
  {
   "cell_type": "code",
   "execution_count": 25,
   "metadata": {
    "collapsed": false
   },
   "outputs": [
    {
     "data": {
      "text/plain": [
       "matrix([[0, 0.5, 1, Fraction(1, 3)],\n",
       "        [0.5, 0, 0, Fraction(1, 3)],\n",
       "        [0.5, 0, 0, Fraction(1, 3)],\n",
       "        [0, 0.5, 0, 0]], dtype=object)"
      ]
     },
     "execution_count": 25,
     "metadata": {},
     "output_type": "execute_result"
    }
   ],
   "source": [
    "M"
   ]
  },
  {
   "cell_type": "code",
   "execution_count": 26,
   "metadata": {
    "collapsed": true
   },
   "outputs": [],
   "source": [
    "V0 = np.matrix([[0.25],\n",
    "            [0.25],\n",
    "            [0.25],\n",
    "            [0.25]])"
   ]
  },
  {
   "cell_type": "code",
   "execution_count": 27,
   "metadata": {
    "collapsed": false
   },
   "outputs": [
    {
     "data": {
      "text/plain": [
       "matrix([[ 0.25],\n",
       "        [ 0.25],\n",
       "        [ 0.25],\n",
       "        [ 0.25]])"
      ]
     },
     "execution_count": 27,
     "metadata": {},
     "output_type": "execute_result"
    }
   ],
   "source": [
    "V0"
   ]
  },
  {
   "cell_type": "code",
   "execution_count": 46,
   "metadata": {
    "collapsed": false
   },
   "outputs": [
    {
     "name": "stdout",
     "output_type": "stream",
     "text": [
      "[[0.39999999999999897]\n",
      " [0.23999999999999921]\n",
      " [0.23999999999999921]\n",
      " [0.11999999999999969]]\n"
     ]
    }
   ],
   "source": [
    "vi = V0\n",
    "for _ in range(1,100000):\n",
    "    vvv = np.dot(M,vi)\n",
    "    vi = vvv\n",
    "print vvv"
   ]
  },
  {
   "cell_type": "code",
   "execution_count": 32,
   "metadata": {
    "collapsed": false
   },
   "outputs": [],
   "source": [
    "V1 = np.dot(M,V0)"
   ]
  },
  {
   "cell_type": "code",
   "execution_count": 33,
   "metadata": {
    "collapsed": false
   },
   "outputs": [
    {
     "data": {
      "text/plain": [
       "matrix([[0.4583333333333333],\n",
       "        [0.20833333333333331],\n",
       "        [0.20833333333333331],\n",
       "        [0.125]], dtype=object)"
      ]
     },
     "execution_count": 33,
     "metadata": {},
     "output_type": "execute_result"
    }
   ],
   "source": [
    "V1"
   ]
  },
  {
   "cell_type": "code",
   "execution_count": 51,
   "metadata": {
    "collapsed": false
   },
   "outputs": [
    {
     "name": "stdout",
     "output_type": "stream",
     "text": [
      "[[ 0.25]\n",
      " [ 0.25]\n",
      " [ 0.25]\n",
      " [ 0.25]]\n",
      "[[1.3717295483243866e-138]\n",
      " [1.3717295483243866e-138]\n",
      " [1.3717295483243866e-138]\n",
      " [9.411994198708984e-139]]\n"
     ]
    }
   ],
   "source": [
    "M1 = np.matrix([[0,0.5,0,Fraction(1,3)],\n",
    "               [0.5,0,0,Fraction(1,3)],\n",
    "               [0.5,0,0,Fraction(1,3)],\n",
    "               [0,0.5,0,0]])\n",
    "print V0\n",
    "vi = V0\n",
    "for _ in range(1,100):\n",
    "    vvv = np.dot(M1,vi)\n",
    "    vi = vvv\n",
    "print vvv"
   ]
  }
 ],
 "metadata": {
  "anaconda-cloud": {},
  "kernelspec": {
   "display_name": "Python [default]",
   "language": "python",
   "name": "python2"
  },
  "language_info": {
   "codemirror_mode": {
    "name": "ipython",
    "version": 2
   },
   "file_extension": ".py",
   "mimetype": "text/x-python",
   "name": "python",
   "nbconvert_exporter": "python",
   "pygments_lexer": "ipython2",
   "version": "2.7.12"
  }
 },
 "nbformat": 4,
 "nbformat_minor": 1
}
