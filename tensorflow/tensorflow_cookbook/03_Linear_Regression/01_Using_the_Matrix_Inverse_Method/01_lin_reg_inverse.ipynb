{
 "cells": [
  {
   "cell_type": "markdown",
   "metadata": {},
   "source": [
    "# Linear Regression: Inverse Matrix Method\n",
    "\n",
    "This script explores how to accomplish linear regression with TensorFlow using the matrix inverse.\n",
    "\n",
    "Given the system $ A \\cdot x = y $, the matrix inverse way of linear regression (equations for overdetermined systems) is given by solving for x as follows.\n",
    "\n",
    "$$x = \\left( A^{T} \\cdot A \\right)^{-1} \\cdot A^{T} \\cdot y$$\n",
    "\n",
    "As a reminder, here, $x$ is our parameter matrix (vector of length $F+1$, where $F$ is the number of features). Here, $A$, our design matrix takes the form\n",
    "\n",
    "$$\n",
    "A=\n",
    "\\begin{bmatrix}\n",
    "    1 & x_{11} & x_{12} & \\dots  & x_{1F} \\\\\n",
    "    1 & x_{21} & x_{22} & \\dots  & x_{2F} \\\\\n",
    "    \\vdots & \\vdots & \\vdots & \\ddots & \\vdots \\\\\n",
    "    1 & x_{n1} & x_{n2} & \\dots  & x_{nF}\n",
    "\\end{bmatrix}\n",
    "$$\n",
    "\n",
    "Where $F$ is the number of independent features, and $n$ is the number of points.  For an overdetermined system, $n>F$. Remember that one observed point in our system will have length $F+1$ and the $i^{th}$ point will look like\n",
    "\n",
    "$$point_{i} = \\left( y_{i}, x_{i1}, x_{i2}, \\dots, x_{iF} \\right)$$\n",
    "\n",
    "For this recipe, we will consider only a 2-dimensional system ($F=1$), so that we can plot the results at the end.\n",
    "\n",
    "We start by loading the necessary libraries."
   ]
  },
  {
   "cell_type": "code",
   "execution_count": 1,
   "metadata": {},
   "outputs": [
    {
     "name": "stderr",
     "output_type": "stream",
     "text": [
      "C:\\ProgramData\\Anaconda3\\lib\\site-packages\\h5py\\__init__.py:36: FutureWarning: Conversion of the second argument of issubdtype from `float` to `np.floating` is deprecated. In future, it will be treated as `np.float64 == np.dtype(float).type`.\n",
      "  from ._conv import register_converters as _register_converters\n"
     ]
    }
   ],
   "source": [
    "import matplotlib.pyplot as plt\n",
    "import numpy as np\n",
    "import tensorflow as tf\n",
    "from tensorflow.python.framework import ops\n",
    "ops.reset_default_graph()"
   ]
  },
  {
   "cell_type": "markdown",
   "metadata": {},
   "source": [
    "Next we start a graph session."
   ]
  },
  {
   "cell_type": "code",
   "execution_count": 2,
   "metadata": {},
   "outputs": [],
   "source": [
    "sess = tf.Session()"
   ]
  },
  {
   "cell_type": "markdown",
   "metadata": {},
   "source": [
    "For illustration purposes, we randomly generate data to fit.\n",
    "\n",
    "The x-values will be a sequence of 100 evenly spaced values between 0 and 100.\n",
    "\n",
    "The y-values will fit to the line: $y=x$, but we will add normally distributed error according to $N(0,1)$."
   ]
  },
  {
   "cell_type": "code",
   "execution_count": 15,
   "metadata": {},
   "outputs": [],
   "source": [
    "# Create the data\n",
    "x_vals = np.linspace(0, 10, 100)\n",
    "y_vals = x_vals + np.random.normal(0, 1, 100)"
   ]
  },
  {
   "cell_type": "code",
   "execution_count": 16,
   "metadata": {},
   "outputs": [
    {
     "data": {
      "text/plain": [
       "array([ 1.38738321,  1.69260258, -0.06211126,  0.16133544,  0.08987157,\n",
       "       -0.33856052, -0.2953487 ,  0.3201886 ,  1.30087219,  0.22916424,\n",
       "        1.5755113 ,  2.34627394,  3.92589795,  0.74335538,  2.32923999,\n",
       "        2.83843895,  1.70030129,  2.06095089,  1.49597753,  0.7861268 ,\n",
       "        2.48636499,  3.26993488,  4.02819873,  2.9590004 ,  3.2413135 ,\n",
       "        3.69020191,  2.28515519,  1.40875642,  3.12454363,  4.09810145,\n",
       "        2.79012836,  2.57532709,  3.70042213,  4.45296158,  3.72308481,\n",
       "        4.27373547,  1.57419574,  4.23912531,  3.11279788,  3.72135099,\n",
       "        3.61386684,  3.14036752,  4.86635444,  4.36037744,  3.52243432,\n",
       "        4.02181971,  5.30099153,  6.13084292,  2.42731943,  5.4088504 ,\n",
       "        5.34199073,  5.45070531,  5.98099598,  5.15899633,  2.62959422,\n",
       "        4.45510828,  5.8591117 ,  4.25963438,  6.29777172,  5.46797588,\n",
       "        5.69377164,  5.60018677,  7.2876915 ,  6.05721954,  6.40869653,\n",
       "        7.66079375,  6.45769134,  5.8831752 ,  7.26881329,  7.0880722 ,\n",
       "        6.00360905,  8.04990031,  6.94977699,  8.7574015 ,  7.89810331,\n",
       "        6.75282644,  7.83746066,  6.94763433,  7.28354897,  9.02674248,\n",
       "        7.74920002,  9.44418954,  7.6737183 ,  7.22143744,  7.79883809,\n",
       "        9.08652821,  6.52906572,  9.61158007,  9.21093884, 10.50737613,\n",
       "       10.30973664,  8.82114251,  7.31743761,  8.11950201,  9.54884171,\n",
       "       10.87393683,  9.38727243,  8.71009484, 10.86442799, 10.06878747])"
      ]
     },
     "execution_count": 16,
     "metadata": {},
     "output_type": "execute_result"
    }
   ],
   "source": [
    "y_vals"
   ]
  },
  {
   "cell_type": "markdown",
   "metadata": {},
   "source": [
    "We create the design matrix, $A$, which will be a column of ones and the x-values."
   ]
  },
  {
   "cell_type": "code",
   "execution_count": 10,
   "metadata": {},
   "outputs": [
    {
     "data": {
      "text/plain": [
       "array([ 0.        ,  0.1010101 ,  0.2020202 ,  0.3030303 ,  0.4040404 ,\n",
       "        0.50505051,  0.60606061,  0.70707071,  0.80808081,  0.90909091,\n",
       "        1.01010101,  1.11111111,  1.21212121,  1.31313131,  1.41414141,\n",
       "        1.51515152,  1.61616162,  1.71717172,  1.81818182,  1.91919192,\n",
       "        2.02020202,  2.12121212,  2.22222222,  2.32323232,  2.42424242,\n",
       "        2.52525253,  2.62626263,  2.72727273,  2.82828283,  2.92929293,\n",
       "        3.03030303,  3.13131313,  3.23232323,  3.33333333,  3.43434343,\n",
       "        3.53535354,  3.63636364,  3.73737374,  3.83838384,  3.93939394,\n",
       "        4.04040404,  4.14141414,  4.24242424,  4.34343434,  4.44444444,\n",
       "        4.54545455,  4.64646465,  4.74747475,  4.84848485,  4.94949495,\n",
       "        5.05050505,  5.15151515,  5.25252525,  5.35353535,  5.45454545,\n",
       "        5.55555556,  5.65656566,  5.75757576,  5.85858586,  5.95959596,\n",
       "        6.06060606,  6.16161616,  6.26262626,  6.36363636,  6.46464646,\n",
       "        6.56565657,  6.66666667,  6.76767677,  6.86868687,  6.96969697,\n",
       "        7.07070707,  7.17171717,  7.27272727,  7.37373737,  7.47474747,\n",
       "        7.57575758,  7.67676768,  7.77777778,  7.87878788,  7.97979798,\n",
       "        8.08080808,  8.18181818,  8.28282828,  8.38383838,  8.48484848,\n",
       "        8.58585859,  8.68686869,  8.78787879,  8.88888889,  8.98989899,\n",
       "        9.09090909,  9.19191919,  9.29292929,  9.39393939,  9.49494949,\n",
       "        9.5959596 ,  9.6969697 ,  9.7979798 ,  9.8989899 , 10.        ])"
      ]
     },
     "execution_count": 10,
     "metadata": {},
     "output_type": "execute_result"
    }
   ],
   "source": [
    "x_vals"
   ]
  },
  {
   "cell_type": "code",
   "execution_count": 11,
   "metadata": {},
   "outputs": [],
   "source": [
    "# Create design matrix\n",
    "x_vals_column = np.transpose(np.matrix(x_vals))\n",
    "ones_column = np.transpose(np.matrix(np.repeat(1, 100)))\n",
    "A = np.column_stack((x_vals_column, ones_column))"
   ]
  },
  {
   "cell_type": "code",
   "execution_count": 14,
   "metadata": {},
   "outputs": [
    {
     "data": {
      "text/plain": [
       "matrix([[ 0.        ,  1.        ],\n",
       "        [ 0.1010101 ,  1.        ],\n",
       "        [ 0.2020202 ,  1.        ],\n",
       "        [ 0.3030303 ,  1.        ],\n",
       "        [ 0.4040404 ,  1.        ],\n",
       "        [ 0.50505051,  1.        ],\n",
       "        [ 0.60606061,  1.        ],\n",
       "        [ 0.70707071,  1.        ],\n",
       "        [ 0.80808081,  1.        ],\n",
       "        [ 0.90909091,  1.        ],\n",
       "        [ 1.01010101,  1.        ],\n",
       "        [ 1.11111111,  1.        ],\n",
       "        [ 1.21212121,  1.        ],\n",
       "        [ 1.31313131,  1.        ],\n",
       "        [ 1.41414141,  1.        ],\n",
       "        [ 1.51515152,  1.        ],\n",
       "        [ 1.61616162,  1.        ],\n",
       "        [ 1.71717172,  1.        ],\n",
       "        [ 1.81818182,  1.        ],\n",
       "        [ 1.91919192,  1.        ],\n",
       "        [ 2.02020202,  1.        ],\n",
       "        [ 2.12121212,  1.        ],\n",
       "        [ 2.22222222,  1.        ],\n",
       "        [ 2.32323232,  1.        ],\n",
       "        [ 2.42424242,  1.        ],\n",
       "        [ 2.52525253,  1.        ],\n",
       "        [ 2.62626263,  1.        ],\n",
       "        [ 2.72727273,  1.        ],\n",
       "        [ 2.82828283,  1.        ],\n",
       "        [ 2.92929293,  1.        ],\n",
       "        [ 3.03030303,  1.        ],\n",
       "        [ 3.13131313,  1.        ],\n",
       "        [ 3.23232323,  1.        ],\n",
       "        [ 3.33333333,  1.        ],\n",
       "        [ 3.43434343,  1.        ],\n",
       "        [ 3.53535354,  1.        ],\n",
       "        [ 3.63636364,  1.        ],\n",
       "        [ 3.73737374,  1.        ],\n",
       "        [ 3.83838384,  1.        ],\n",
       "        [ 3.93939394,  1.        ],\n",
       "        [ 4.04040404,  1.        ],\n",
       "        [ 4.14141414,  1.        ],\n",
       "        [ 4.24242424,  1.        ],\n",
       "        [ 4.34343434,  1.        ],\n",
       "        [ 4.44444444,  1.        ],\n",
       "        [ 4.54545455,  1.        ],\n",
       "        [ 4.64646465,  1.        ],\n",
       "        [ 4.74747475,  1.        ],\n",
       "        [ 4.84848485,  1.        ],\n",
       "        [ 4.94949495,  1.        ],\n",
       "        [ 5.05050505,  1.        ],\n",
       "        [ 5.15151515,  1.        ],\n",
       "        [ 5.25252525,  1.        ],\n",
       "        [ 5.35353535,  1.        ],\n",
       "        [ 5.45454545,  1.        ],\n",
       "        [ 5.55555556,  1.        ],\n",
       "        [ 5.65656566,  1.        ],\n",
       "        [ 5.75757576,  1.        ],\n",
       "        [ 5.85858586,  1.        ],\n",
       "        [ 5.95959596,  1.        ],\n",
       "        [ 6.06060606,  1.        ],\n",
       "        [ 6.16161616,  1.        ],\n",
       "        [ 6.26262626,  1.        ],\n",
       "        [ 6.36363636,  1.        ],\n",
       "        [ 6.46464646,  1.        ],\n",
       "        [ 6.56565657,  1.        ],\n",
       "        [ 6.66666667,  1.        ],\n",
       "        [ 6.76767677,  1.        ],\n",
       "        [ 6.86868687,  1.        ],\n",
       "        [ 6.96969697,  1.        ],\n",
       "        [ 7.07070707,  1.        ],\n",
       "        [ 7.17171717,  1.        ],\n",
       "        [ 7.27272727,  1.        ],\n",
       "        [ 7.37373737,  1.        ],\n",
       "        [ 7.47474747,  1.        ],\n",
       "        [ 7.57575758,  1.        ],\n",
       "        [ 7.67676768,  1.        ],\n",
       "        [ 7.77777778,  1.        ],\n",
       "        [ 7.87878788,  1.        ],\n",
       "        [ 7.97979798,  1.        ],\n",
       "        [ 8.08080808,  1.        ],\n",
       "        [ 8.18181818,  1.        ],\n",
       "        [ 8.28282828,  1.        ],\n",
       "        [ 8.38383838,  1.        ],\n",
       "        [ 8.48484848,  1.        ],\n",
       "        [ 8.58585859,  1.        ],\n",
       "        [ 8.68686869,  1.        ],\n",
       "        [ 8.78787879,  1.        ],\n",
       "        [ 8.88888889,  1.        ],\n",
       "        [ 8.98989899,  1.        ],\n",
       "        [ 9.09090909,  1.        ],\n",
       "        [ 9.19191919,  1.        ],\n",
       "        [ 9.29292929,  1.        ],\n",
       "        [ 9.39393939,  1.        ],\n",
       "        [ 9.49494949,  1.        ],\n",
       "        [ 9.5959596 ,  1.        ],\n",
       "        [ 9.6969697 ,  1.        ],\n",
       "        [ 9.7979798 ,  1.        ],\n",
       "        [ 9.8989899 ,  1.        ],\n",
       "        [10.        ,  1.        ]])"
      ]
     },
     "execution_count": 14,
     "metadata": {},
     "output_type": "execute_result"
    }
   ],
   "source": [
    "A"
   ]
  },
  {
   "cell_type": "markdown",
   "metadata": {},
   "source": [
    "We now create the y-values as a matrix with Numpy.\n",
    "\n",
    "After we have the y-values and the design matrix, we create tensors from them."
   ]
  },
  {
   "cell_type": "code",
   "execution_count": 5,
   "metadata": {},
   "outputs": [],
   "source": [
    "# Format the y matrix\n",
    "y = np.transpose(np.matrix(y_vals))\n",
    "\n",
    "# Create tensors\n",
    "A_tensor = tf.constant(A)\n",
    "y_tensor = tf.constant(y)"
   ]
  },
  {
   "cell_type": "markdown",
   "metadata": {},
   "source": [
    "Now we solve for the parameter matrix with TensorFlow operations."
   ]
  },
  {
   "cell_type": "code",
   "execution_count": 6,
   "metadata": {},
   "outputs": [],
   "source": [
    "# Matrix inverse solution\n",
    "tA_A = tf.matmul(tf.transpose(A_tensor), A_tensor)\n",
    "tA_A_inv = tf.matrix_inverse(tA_A)\n",
    "product = tf.matmul(tA_A_inv, tf.transpose(A_tensor))\n",
    "solution = tf.matmul(product, y_tensor)"
   ]
  },
  {
   "cell_type": "markdown",
   "metadata": {},
   "source": [
    "Run the solutions and extract the slope and intercept from the parameter matrix."
   ]
  },
  {
   "cell_type": "code",
   "execution_count": 17,
   "metadata": {},
   "outputs": [],
   "source": [
    "solution_eval = sess.run(solution)\n",
    "\n",
    "# Extract coefficients\n",
    "slope = solution_eval[0][0]\n",
    "y_intercept = solution_eval[1][0]"
   ]
  },
  {
   "cell_type": "code",
   "execution_count": 18,
   "metadata": {},
   "outputs": [
    {
     "data": {
      "text/plain": [
       "array([[ 1.02214199],\n",
       "       [-0.05159534]])"
      ]
     },
     "execution_count": 18,
     "metadata": {},
     "output_type": "execute_result"
    }
   ],
   "source": [
    "solution_eval"
   ]
  },
  {
   "cell_type": "markdown",
   "metadata": {},
   "source": [
    "Now we print the solution we found and create a best fit line."
   ]
  },
  {
   "cell_type": "code",
   "execution_count": 8,
   "metadata": {},
   "outputs": [
    {
     "name": "stdout",
     "output_type": "stream",
     "text": [
      "slope: 1.0221419887050054\n",
      "y_intercept: -0.05159534218211437\n"
     ]
    }
   ],
   "source": [
    "print('slope: ' + str(slope))\n",
    "print('y_intercept: ' + str(y_intercept))\n",
    "\n",
    "# Get best fit line\n",
    "best_fit = []\n",
    "for i in x_vals:\n",
    "  best_fit.append(slope*i+y_intercept)"
   ]
  },
  {
   "cell_type": "markdown",
   "metadata": {},
   "source": [
    "We use Matplotlib to plot the results."
   ]
  },
  {
   "cell_type": "code",
   "execution_count": 9,
   "metadata": {},
   "outputs": [
    {
     "data": {
      "image/png": "[encoded data removed]",
      "text/plain": [
       "<matplotlib.figure.Figure at 0x257a7400198>"
      ]
     },
     "metadata": {},
     "output_type": "display_data"
    }
   ],
   "source": [
    "# Plot the results\n",
    "plt.plot(x_vals, y_vals, 'o', label='Data')\n",
    "plt.plot(x_vals, best_fit, 'r-', label='Best fit line', linewidth=3)\n",
    "plt.legend(loc='upper left')\n",
    "plt.show()"
   ]
  }
 ],
 "metadata": {
  "kernelspec": {
   "display_name": "Python 3",
   "language": "python",
   "name": "python3"
  },
  "language_info": {
   "codemirror_mode": {
    "name": "ipython",
    "version": 3
   },
   "file_extension": ".py",
   "mimetype": "text/x-python",
   "name": "python",
   "nbconvert_exporter": "python",
   "pygments_lexer": "ipython3",
   "version": "3.6.4"
  }
 },
 "nbformat": 4,
 "nbformat_minor": 2
}
