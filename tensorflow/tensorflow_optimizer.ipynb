{
 "cells": [
  {
   "cell_type": "code",
   "execution_count": 1,
   "metadata": {},
   "outputs": [
    {
     "name": "stderr",
     "output_type": "stream",
     "text": [
      "/Users/vincent/anaconda3/lib/python3.6/site-packages/h5py/__init__.py:36: FutureWarning: Conversion of the second argument of issubdtype from `float` to `np.floating` is deprecated. In future, it will be treated as `np.float64 == np.dtype(float).type`.\n",
      "  from ._conv import register_converters as _register_converters\n"
     ]
    }
   ],
   "source": [
    "# refer to https://www.cnblogs.com/JZ-Ser/articles/7637845.html\n",
    "\n",
    "%matplotlib inline\n",
    "import matplotlib.pyplot as plt;\n",
    "import numpy as np;\n",
    "import pandas as pd;\n",
    "import tensorflow as tf;"
   ]
  },
  {
   "cell_type": "code",
   "execution_count": 10,
   "metadata": {},
   "outputs": [],
   "source": [
    "# 1 使用minimize()\n",
    "# loss = (x-3)^2\n",
    "x = tf.Variable(tf.truncated_normal([1]), name=\"x\")\n",
    "cost = tf.pow(x-3,2, name=\"cost\")"
   ]
  },
  {
   "cell_type": "code",
   "execution_count": 11,
   "metadata": {},
   "outputs": [],
   "source": [
    "optimizer = tf.train.GradientDescentOptimizer(learning_rate=0.1)\n",
    "train_step = optimizer.minimize(cost)"
   ]
  },
  {
   "cell_type": "code",
   "execution_count": 12,
   "metadata": {},
   "outputs": [
    {
     "name": "stdout",
     "output_type": "stream",
     "text": [
      "x:  [-0.02900358]\n",
      "cost:  [5.8719115]\n",
      "x:  [0.5767972]\n",
      "cost:  [3.7580237]\n",
      "x:  [1.0614377]\n",
      "cost:  [2.4051352]\n",
      "x:  [1.4491502]\n",
      "cost:  [1.5392865]\n",
      "x:  [1.7593201]\n",
      "cost:  [0.9851435]\n",
      "x:  [2.007456]\n",
      "cost:  [0.6304919]\n",
      "x:  [2.2059648]\n",
      "cost:  [0.4035148]\n",
      "x:  [2.3647718]\n",
      "cost:  [0.2582495]\n",
      "x:  [2.4918175]\n",
      "cost:  [0.16527975]\n",
      "x:  [2.593454]\n",
      "cost:  [0.10577898]\n"
     ]
    }
   ],
   "source": [
    "def train():\n",
    "    with tf.Session() as sess:\n",
    "        x.initializer.run()\n",
    "        for i in range(10):\n",
    "            print (\"x: \", x.eval())\n",
    "            train_step.run()\n",
    "            print (\"cost: \", cost.eval())\n",
    "train()"
   ]
  },
  {
   "cell_type": "code",
   "execution_count": 5,
   "metadata": {},
   "outputs": [
    {
     "name": "stdout",
     "output_type": "stream",
     "text": [
      "x:  [-0.7790202]\n",
      "cost:  [9.139836]\n",
      "x:  [-0.02321613]\n",
      "cost:  [5.849495]\n",
      "x:  [0.58142716]\n",
      "cost:  [3.7436767]\n",
      "x:  [1.0651417]\n",
      "cost:  [2.395953]\n",
      "x:  [1.4521134]\n",
      "cost:  [1.5334098]\n",
      "x:  [1.7616907]\n",
      "cost:  [0.98138213]\n",
      "x:  [2.0093527]\n",
      "cost:  [0.6280846]\n",
      "x:  [2.207482]\n",
      "cost:  [0.40197423]\n",
      "x:  [2.3659856]\n",
      "cost:  [0.25726345]\n",
      "x:  [2.4927886]\n",
      "cost:  [0.16464858]\n"
     ]
    }
   ],
   "source": [
    "# minimize() = compute_gradients() + apply_gradients()\n",
    "\n",
    "# 拆分成计算梯度和应用梯度两个步骤。\n",
    "gra_and_var = optimizer.compute_gradients(cost)\n",
    "train_step = optimizer.apply_gradients(gra_and_var)\n",
    "train()"
   ]
  },
  {
   "cell_type": "code",
   "execution_count": 6,
   "metadata": {},
   "outputs": [],
   "source": [
    "# 最大化, 给目标函数套上tf.negative就可以了, 像写成-1 * 也可以\n",
    "y = tf.Variable(tf.truncated_normal([1]))\n",
    "max_goal = tf.sin(y)\n",
    "optimizer = tf.train.GradientDescentOptimizer(learning_rate=0.1)\n",
    "# train_step = optimizer.minimize(tf.negative(max_goal))\n",
    "train_step = optimizer.minimize(-1 * max_goal)"
   ]
  },
  {
   "cell_type": "code",
   "execution_count": 7,
   "metadata": {},
   "outputs": [
    {
     "name": "stdout",
     "output_type": "stream",
     "text": [
      "x:  [-1.700102]\n",
      "max_goal:  [-0.9899066]\n",
      "x:  [-1.7129965]\n",
      "max_goal:  [-0.98779875]\n",
      "x:  [-1.7271687]\n",
      "max_goal:  [-0.9852537]\n",
      "x:  [-1.7427423]\n",
      "max_goal:  [-0.9821821]\n",
      "x:  [-1.7598523]\n",
      "max_goal:  [-0.978477]\n",
      "x:  [-1.7786455]\n",
      "max_goal:  [-0.9740107]\n",
      "x:  [-1.7992811]\n",
      "max_goal:  [-0.96863097]\n",
      "x:  [-1.8219314]\n",
      "max_goal:  [-0.96215713]\n",
      "x:  [-1.8467817]\n",
      "max_goal:  [-0.9543755]\n",
      "x:  [-1.8740313]\n",
      "max_goal:  [-0.94503456]\n"
     ]
    }
   ],
   "source": [
    "def train():\n",
    "    with tf.Session() as sess:\n",
    "        y.initializer.run()\n",
    "        for i in range(10):\n",
    "            print (\"x: \", y.eval())\n",
    "            train_step.run()\n",
    "            print (\"max_goal: \", max_goal.eval())\n",
    "train()"
   ]
  },
  {
   "cell_type": "code",
   "execution_count": null,
   "metadata": {},
   "outputs": [],
   "source": []
  }
 ],
 "metadata": {
  "kernelspec": {
   "display_name": "Python 3",
   "language": "python",
   "name": "python3"
  },
  "language_info": {
   "codemirror_mode": {
    "name": "ipython",
    "version": 3
   },
   "file_extension": ".py",
   "mimetype": "text/x-python",
   "name": "python",
   "nbconvert_exporter": "python",
   "pygments_lexer": "ipython3",
   "version": "3.6.5"
  }
 },
 "nbformat": 4,
 "nbformat_minor": 2
}
