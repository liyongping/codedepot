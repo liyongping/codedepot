{
 "cells": [
  {
   "cell_type": "code",
   "execution_count": 27,
   "metadata": {},
   "outputs": [],
   "source": [
    "# refer to https://www.cnblogs.com/JZ-Ser/articles/7637845.html\n",
    "\n",
    "%matplotlib inline\n",
    "import matplotlib.pyplot as plt;\n",
    "import numpy as np;\n",
    "import pandas as pd;\n",
    "import tensorflow as tf;"
   ]
  },
  {
   "cell_type": "code",
   "execution_count": 28,
   "metadata": {},
   "outputs": [],
   "source": [
    "# 1 使用minimize()\n",
    "# loss = (x-3)^2\n",
    "x = tf.Variable(tf.truncated_normal([1]), name=\"x\")\n",
    "cost = tf.pow(x-3,2, name=\"cost\")"
   ]
  },
  {
   "cell_type": "code",
   "execution_count": 29,
   "metadata": {},
   "outputs": [],
   "source": [
    "optimizer = tf.train.GradientDescentOptimizer(learning_rate=0.1)\n",
    "train_step = optimizer.minimize(cost)"
   ]
  },
  {
   "cell_type": "code",
   "execution_count": 30,
   "metadata": {},
   "outputs": [
    {
     "name": "stdout",
     "output_type": "stream",
     "text": [
      "x:  [0.55672276]\n",
      "cost:  [3.8205464]\n",
      "x:  [1.0453782]\n",
      "cost:  [2.4451497]\n",
      "x:  [1.4363025]\n",
      "cost:  [1.5648959]\n",
      "x:  [1.749042]\n",
      "cost:  [1.0015334]\n",
      "x:  [1.9992336]\n",
      "cost:  [0.64098144]\n",
      "x:  [2.1993868]\n",
      "cost:  [0.41022813]\n",
      "x:  [2.3595095]\n",
      "cost:  [0.2625461]\n",
      "x:  [2.4876075]\n",
      "cost:  [0.1680295]\n",
      "x:  [2.590086]\n",
      "cost:  [0.10753885]\n",
      "x:  [2.6720688]\n",
      "cost:  [0.06882481]\n"
     ]
    }
   ],
   "source": [
    "def train():\n",
    "    with tf.Session() as sess:\n",
    "        x.initializer.run()\n",
    "        for i in range(10):\n",
    "            print (\"x: \", x.eval())\n",
    "            train_step.run()\n",
    "            print (\"cost: \", cost.eval())\n",
    "train()"
   ]
  },
  {
   "cell_type": "code",
   "execution_count": 33,
   "metadata": {},
   "outputs": [
    {
     "name": "stdout",
     "output_type": "stream",
     "text": [
      "x:  [-1.2715908]\n",
      "cost:  [11.677752]\n",
      "x:  [-0.4172727]\n",
      "cost:  [7.473761]\n",
      "x:  [0.26618183]\n",
      "cost:  [4.783208]\n",
      "x:  [0.8129454]\n",
      "cost:  [3.061253]\n",
      "x:  [1.2503563]\n",
      "cost:  [1.9592019]\n",
      "x:  [1.600285]\n",
      "cost:  [1.2538892]\n",
      "x:  [1.880228]\n",
      "cost:  [0.80248904]\n",
      "x:  [2.1041825]\n",
      "cost:  [0.513593]\n",
      "x:  [2.283346]\n",
      "cost:  [0.32869956]\n",
      "x:  [2.4266768]\n",
      "cost:  [0.2103678]\n"
     ]
    }
   ],
   "source": [
    "# minimize() = compute_gradients() + apply_gradients()\n",
    "\n",
    "# 拆分成计算梯度和应用梯度两个步骤。\n",
    "gra_and_var = optimizer.compute_gradients(cost)\n",
    "train_step = optimizer.apply_gradients(gra_and_var)\n",
    "train()"
   ]
  },
  {
   "cell_type": "code",
   "execution_count": 34,
   "metadata": {},
   "outputs": [],
   "source": [
    "# 最大化, 给目标函数套上tf.negative就可以了, 像写成-1 * 也可以\n",
    "y = tf.Variable(tf.truncated_normal([1]))\n",
    "max_goal = tf.sin(y)\n",
    "optimizer = tf.train.GradientDescentOptimizer(learning_rate=0.1)\n",
    "# train_step = optimizer.minimize(tf.negative(max_goal))\n",
    "train_step = optimizer.minimize(-1 * max_goal)"
   ]
  },
  {
   "cell_type": "code",
   "execution_count": 36,
   "metadata": {},
   "outputs": [
    {
     "name": "stdout",
     "output_type": "stream",
     "text": [
      "x:  [1.0817182]\n",
      "max_goal:  [0.9038565]\n",
      "x:  [1.1286994]\n",
      "max_goal:  [0.9213282]\n",
      "x:  [1.171483]\n",
      "max_goal:  [0.9357436]\n",
      "x:  [1.2103616]\n",
      "max_goal:  [0.9475975]\n",
      "x:  [1.2456297]\n",
      "max_goal:  [0.9573181]\n",
      "x:  [1.2775763]\n",
      "max_goal:  [0.9652713]\n",
      "x:  [1.3064799]\n",
      "max_goal:  [0.9717663]\n",
      "x:  [1.3326049]\n",
      "max_goal:  [0.9770623]\n",
      "x:  [1.3561994]\n",
      "max_goal:  [0.98137534]\n",
      "x:  [1.3774947]\n",
      "max_goal:  [0.98488426]\n"
     ]
    }
   ],
   "source": [
    "def train():\n",
    "    with tf.Session() as sess:\n",
    "        y.initializer.run()\n",
    "        for i in range(10):\n",
    "            print (\"x: \", y.eval())\n",
    "            train_step.run()\n",
    "            print (\"max_goal: \", max_goal.eval())\n",
    "train()"
   ]
  },
  {
   "cell_type": "code",
   "execution_count": null,
   "metadata": {},
   "outputs": [],
   "source": []
  }
 ],
 "metadata": {
  "kernelspec": {
   "display_name": "Python 3",
   "language": "python",
   "name": "python3"
  },
  "language_info": {
   "codemirror_mode": {
    "name": "ipython",
    "version": 3
   },
   "file_extension": ".py",
   "mimetype": "text/x-python",
   "name": "python",
   "nbconvert_exporter": "python",
   "pygments_lexer": "ipython3",
   "version": "3.6.5"
  }
 },
 "nbformat": 4,
 "nbformat_minor": 2
}
