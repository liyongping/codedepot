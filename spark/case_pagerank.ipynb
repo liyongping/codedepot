{
 "cells": [
  {
   "cell_type": "markdown",
   "metadata": {},
   "source": [
    "# PageRank"
   ]
  },
  {
   "cell_type": "code",
   "execution_count": 1,
   "metadata": {
    "collapsed": true
   },
   "outputs": [],
   "source": [
    "def f(x):\n",
    "    print x\n",
    "    list1=[]\n",
    "    s=len(x[1][0])\n",
    "    for y in x[1][0]:\n",
    "        list1.append(tuple((y,x[1][1]/s)))\n",
    "    return list1\n",
    "\n",
    "def p(x):\n",
    "    print x"
   ]
  },
  {
   "cell_type": "code",
   "execution_count": 4,
   "metadata": {
    "collapsed": true
   },
   "outputs": [],
   "source": [
    "list=[('A',('D',)),('B',('A',)),('C',('A','B')),('D',('A','C'))]\n",
    "pages=sc.parallelize(list).map(lambda x:(x[0],tuple(x[1]))).partitionBy(2).cache()#必须转换成key-values,持久化操作提高效率，partitionBy将相同key的元素哈希到相同的机器上，省去了后续join操作shuffle开销\n",
    "links=sc.parallelize(['A','B','C','D']).map(lambda x:(x,1.0))\n",
    "for i in range(1,3):\n",
    "    rank=pages.join(links).flatMap(f)\n",
    "    links=rank.reduceByKey(lambda x, y:x+y)\n",
    "    links=links.mapValues(lambda x:0.15+0.85*x)\n",
    "    links.foreach(p)\n",
    "#\n",
    "links.saveAsSequenceFile(\"pagerank.output\")"
   ]
  }
 ],
 "metadata": {
  "kernelspec": {
   "display_name": "Python 2",
   "language": "python",
   "name": "python2"
  },
  "language_info": {
   "codemirror_mode": {
    "name": "ipython",
    "version": 2
   },
   "file_extension": ".py",
   "mimetype": "text/x-python",
   "name": "python",
   "nbconvert_exporter": "python",
   "pygments_lexer": "ipython2",
   "version": "2.7.13"
  }
 },
 "nbformat": 4,
 "nbformat_minor": 2
}
