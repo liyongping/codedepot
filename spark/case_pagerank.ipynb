{
 "cells": [
  {
   "cell_type": "markdown",
   "metadata": {},
   "source": [
    "# PageRank"
   ]
  },
  {
   "cell_type": "code",
   "execution_count": 7,
   "metadata": {
    "collapsed": true
   },
   "outputs": [],
   "source": [
    "def f(x):\n",
    "    print x\n",
    "    list1=[]\n",
    "    s=len(x[1][0])\n",
    "    print x[1][0], x[1][1], s\n",
    "    for y in x[1][0]:\n",
    "        list1.append(tuple((y,x[1][1]/s)))\n",
    "    return list1\n",
    "\n",
    "def p(x):\n",
    "    print x"
   ]
  },
  {
   "cell_type": "code",
   "execution_count": 8,
   "metadata": {},
   "outputs": [
    {
     "name": "stdout",
     "output_type": "stream",
     "text": [
      "[('A', ('D',)), ('C', ('A', 'B')), ('B', ('A',)), ('D', ('A', 'C'))]\n",
      "[('A', 0.25), ('B', 0.25), ('C', 0.25), ('D', 0.25)]\n",
      "[('A', (('D',), 0.25)), ('D', (('A', 'C'), 0.25)), ('C', (('A', 'B'), 0.25)), ('B', (('A',), 0.25))]\n",
      "[('D', 0.25), ('A', 0.125), ('C', 0.125), ('A', 0.125), ('B', 0.125), ('A', 0.25)]\n"
     ]
    }
   ],
   "source": [
    "list=[('A',('D',)),('B',('A',)),('C',('A','B')),('D',('A','C'))]\n",
    "pages=sc.parallelize(list).map(lambda x:(x[0],tuple(x[1]))).partitionBy(2).cache()#必须转换成key-values,持久化操作提高效率，partitionBy将相同key的元素哈希到相同的机器上，省去了后续join操作shuffle开销\n",
    "links=sc.parallelize(['A','B','C','D']).map(lambda x:(x,0.25))\n",
    "print pages.collect()\n",
    "print links.collect()\n",
    "\n",
    "rank=pages.join(links)\n",
    "print rank.collect()\n",
    "\n",
    "print rank.flatMap(f).collect()"
   ]
  },
  {
   "cell_type": "code",
   "execution_count": 9,
   "metadata": {},
   "outputs": [
    {
     "name": "stdout",
     "output_type": "stream",
     "text": [
      "('A', (('D',), 0.25))\n",
      "('D',) 0.25 1\n"
     ]
    },
    {
     "data": {
      "text/plain": [
       "[('D', 0.25)]"
      ]
     },
     "execution_count": 9,
     "metadata": {},
     "output_type": "execute_result"
    }
   ],
   "source": [
    "f(('A', (('D',), 0.25)))"
   ]
  },
  {
   "cell_type": "code",
   "execution_count": 10,
   "metadata": {},
   "outputs": [
    {
     "name": "stdout",
     "output_type": "stream",
     "text": [
      "('D', (('A', 'C'), 0.25))\n",
      "('A', 'C') 0.25 2\n"
     ]
    },
    {
     "data": {
      "text/plain": [
       "[('A', 0.125), ('C', 0.125)]"
      ]
     },
     "execution_count": 10,
     "metadata": {},
     "output_type": "execute_result"
    }
   ],
   "source": [
    "f(('D', (('A', 'C'), 0.25)))"
   ]
  },
  {
   "cell_type": "code",
   "execution_count": 11,
   "metadata": {},
   "outputs": [
    {
     "name": "stdout",
     "output_type": "stream",
     "text": [
      "1\n",
      "[('D', 0.25), ('A', 0.125), ('C', 0.125), ('A', 0.125), ('B', 0.125), ('A', 0.25)]\n",
      "[('A', 0.5), ('D', 0.25), ('C', 0.125), ('B', 0.125)]\n",
      "[('A', 0.45), ('D', 0.25), ('C', 0.15000000000000002), ('B', 0.15000000000000002)]\n",
      "2\n",
      "[('A', 0.15000000000000002), ('A', 0.125), ('C', 0.125), ('D', 0.45), ('A', 0.07500000000000001), ('B', 0.07500000000000001)]\n",
      "[('B', 0.07500000000000001), ('D', 0.45), ('A', 0.35000000000000003), ('C', 0.125)]\n",
      "[('B', 0.11000000000000001), ('D', 0.41000000000000003), ('A', 0.33), ('C', 0.15000000000000002)]\n"
     ]
    }
   ],
   "source": [
    "for i in range(1,3):\n",
    "    print i\n",
    "    rank=pages.join(links).flatMap(f)\n",
    "    print rank.collect()\n",
    "    links=rank.reduceByKey(lambda x, y:x+y)\n",
    "    print links.collect()\n",
    "    links=links.mapValues(lambda x:0.05+0.8*x)\n",
    "    #links.foreach(p)\n",
    "    print links.collect()\n",
    "# links.saveAsSequenceFile(\"pagerank.output\")"
   ]
  }
 ],
 "metadata": {
  "anaconda-cloud": {},
  "kernelspec": {
   "display_name": "Python 2",
   "language": "python",
   "name": "python2"
  },
  "language_info": {
   "codemirror_mode": {
    "name": "ipython",
    "version": 2
   },
   "file_extension": ".py",
   "mimetype": "text/x-python",
   "name": "python",
   "nbconvert_exporter": "python",
   "pygments_lexer": "ipython2",
   "version": "2.7.13"
  }
 },
 "nbformat": 4,
 "nbformat_minor": 2
}
