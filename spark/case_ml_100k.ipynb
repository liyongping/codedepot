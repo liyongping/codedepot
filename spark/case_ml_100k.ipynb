{
 "cells": [
  {
   "cell_type": "code",
   "execution_count": 3,
   "metadata": {},
   "outputs": [],
   "source": [
    "# http://www.cnblogs.com/NaughtyBaby/p/5469469.html\n",
    "# https://grouplens.org/datasets/movielens/\n",
    "user_data = sc.textFile(\"/spark/ml-100k/u.user\")"
   ]
  },
  {
   "cell_type": "code",
   "execution_count": 5,
   "metadata": {},
   "outputs": [
    {
     "data": {
      "text/plain": [
       "u'1|24|M|technician|85711'"
      ]
     },
     "execution_count": 5,
     "metadata": {},
     "output_type": "execute_result"
    }
   ],
   "source": [
    "user_data.first()"
   ]
  },
  {
   "cell_type": "code",
   "execution_count": 25,
   "metadata": {},
   "outputs": [],
   "source": [
    "user_fields = user_data.map(lambda line: line.split(\"|\"))"
   ]
  },
  {
   "cell_type": "code",
   "execution_count": 12,
   "metadata": {},
   "outputs": [
    {
     "name": "stdout",
     "output_type": "stream",
     "text": [
      "Users: 943, genders: 2, occupations: 21, ZIP codes: 795\n"
     ]
    }
   ],
   "source": [
    "num_users = user_fields.map(lambda fields: fields[0]).count()\n",
    "num_genders = user_fields.map(lambda fields: fields[2]).distinct().count()\n",
    "num_occupations = user_fields.map(lambda fields: fields[3]).distinct().count()\n",
    "num_zipcodes = user_fields.map(lambda fields: fields[4]).distinct().count()\n",
    "print \"Users: %d, genders: %d, occupations: %d, ZIP codes: %d\" % (num_users, num_genders, num_occupations, num_zipcodes)"
   ]
  },
  {
   "cell_type": "code",
   "execution_count": 14,
   "metadata": {},
   "outputs": [],
   "source": [
    "%matplotlib inline\n",
    "import matplotlib.pyplot as plt"
   ]
  },
  {
   "cell_type": "code",
   "execution_count": 24,
   "metadata": {},
   "outputs": [
    {
     "data": {
      "text/plain": [
       "(array([ 0.00064269,  0.00192808,  0.00449886,  0.0279572 ,  0.02956393,\n",
       "         0.03374144,  0.04563129,  0.02538642,  0.02088756,  0.01863813,\n",
       "         0.02088756,  0.01606735,  0.0170314 ,  0.01863813,  0.00674829,\n",
       "         0.00482021,  0.0054629 ,  0.00192808,  0.00128539,  0.00128539]),\n",
       " array([  7. ,  10.3,  13.6,  16.9,  20.2,  23.5,  26.8,  30.1,  33.4,\n",
       "         36.7,  40. ,  43.3,  46.6,  49.9,  53.2,  56.5,  59.8,  63.1,\n",
       "         66.4,  69.7,  73. ]),\n",
       " <a list of 20 Patch objects>)"
      ]
     },
     "execution_count": 24,
     "metadata": {},
     "output_type": "execute_result"
    },
    {
     "data": {
      "image/png": "[encoded data removed]",
      "text/plain": [
       "<matplotlib.figure.Figure at 0x7f46bf91e790>"
      ]
     },
     "metadata": {},
     "output_type": "display_data"
    }
   ],
   "source": [
    "ages = user_fields.map(lambda x: int(x[1])).collect()\n",
    "plt.hist(ages, bins=20, color='lightblue', normed=True)"
   ]
  },
  {
   "cell_type": "code",
   "execution_count": 19,
   "metadata": {},
   "outputs": [
    {
     "data": {
      "text/plain": [
       "(array([   8.,  101.,  197.,  221.,  123.,  115.,  111.,   36.,   23.,    8.]),\n",
       " array([  7. ,  13.6,  20.2,  26.8,  33.4,  40. ,  46.6,  53.2,  59.8,\n",
       "         66.4,  73. ]),\n",
       " <a list of 10 Patch objects>)"
      ]
     },
     "execution_count": 19,
     "metadata": {},
     "output_type": "execute_result"
    },
    {
     "data": {
      "image/png": "[encoded data removed]",
      "text/plain": [
       "<matplotlib.figure.Figure at 0x7f46d242e050>"
      ]
     },
     "metadata": {},
     "output_type": "display_data"
    }
   ],
   "source": [
    "plt.hist(ages)"
   ]
  },
  {
   "cell_type": "code",
   "execution_count": 27,
   "metadata": {},
   "outputs": [],
   "source": [
    "count_by_occupation = user_fields.map(lambda fields: (fields[3],1)).reduceByKey(lambda x,y: x+y).collect()"
   ]
  },
  {
   "cell_type": "code",
   "execution_count": 28,
   "metadata": {},
   "outputs": [
    {
     "data": {
      "text/plain": [
       "[(u'administrator', 79),\n",
       " (u'retired', 14),\n",
       " (u'lawyer', 12),\n",
       " (u'none', 9),\n",
       " (u'student', 196),\n",
       " (u'technician', 27),\n",
       " (u'programmer', 66),\n",
       " (u'salesman', 12),\n",
       " (u'homemaker', 7),\n",
       " (u'executive', 32),\n",
       " (u'doctor', 7),\n",
       " (u'entertainment', 18),\n",
       " (u'marketing', 26),\n",
       " (u'writer', 45),\n",
       " (u'scientist', 31),\n",
       " (u'educator', 95),\n",
       " (u'healthcare', 16),\n",
       " (u'librarian', 51),\n",
       " (u'artist', 28),\n",
       " (u'other', 105),\n",
       " (u'engineer', 67)]"
      ]
     },
     "execution_count": 28,
     "metadata": {},
     "output_type": "execute_result"
    }
   ],
   "source": [
    "count_by_occupation"
   ]
  },
  {
   "cell_type": "code",
   "execution_count": null,
   "metadata": {
    "collapsed": true
   },
   "outputs": [],
   "source": []
  }
 ],
 "metadata": {
  "kernelspec": {
   "display_name": "Python 2",
   "language": "python",
   "name": "python2"
  },
  "language_info": {
   "codemirror_mode": {
    "name": "ipython",
    "version": 2
   },
   "file_extension": ".py",
   "mimetype": "text/x-python",
   "name": "python",
   "nbconvert_exporter": "python",
   "pygments_lexer": "ipython2",
   "version": "2.7.13"
  }
 },
 "nbformat": 4,
 "nbformat_minor": 2
}
